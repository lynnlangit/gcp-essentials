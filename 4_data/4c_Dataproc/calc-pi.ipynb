{
 "cells": [
  {
   "cell_type": "code",
   "execution_count": null,
   "id": "6737f821-680e-4c12-a8c2-71110851914e",
   "metadata": {
    "tags": []
   },
   "outputs": [],
   "source": [
    "## estimate the value of Pi using a Monte Carlo method\n",
    "## simulate throwing darts at a square with a circle inscribed within it\n",
    "## calc the ratio of darts landing inside the circle to the total darts thrown\n",
    "## estimate the value of Pi non-deterministically\n",
    "## The more darts thrown (i.e., the higher the number in range), the more accurate the estimation becomes.\n",
    "\n",
    "## set to use 'local Python'\n",
    "\n",
    "import random\n",
    "\n",
    "def inside(p):\n",
    "    x, y = random.random(), random.random()\n",
    "    return x*x + y*y < 1\n",
    "\n",
    "count = sum(inside(i) for i in range(10000))\n",
    "\n",
    "print(\"Pi is roughly %f\" % (4.0 * count / 10000))"
   ]
  },
  {
   "cell_type": "code",
   "execution_count": null,
   "id": "c9ca8727-97b5-4edb-bbdf-cfb50a2d1924",
   "metadata": {
    "tags": []
   },
   "outputs": [],
   "source": [
    "## use Monte Carlo Method on Spark (parallelize)\n",
    "\n",
    "## set to use 'demo on Serverless Spark' remote\n",
    "\n",
    "import random\n",
    "    \n",
    "def inside(p):\n",
    "    x, y = random.random(), random.random()\n",
    "    return x*x + y*y < 1\n",
    "    \n",
    "count = sc.parallelize(range(0, 10000)) .filter(inside).count()\n",
    "print(\"Pi is roughly %f\" % (4.0 * count / 10000))"
   ]
  },
  {
   "cell_type": "code",
   "execution_count": null,
   "id": "85e36675-3154-4be8-a4ed-aa6e060163a7",
   "metadata": {
    "tags": []
   },
   "outputs": [],
   "source": [
    "## Increase precision\n",
    "\n",
    "import random\n",
    "\n",
    "from decimal import Decimal, getcontext\n",
    "\n",
    "# Set the precision to 18 digits (2 extra for safety)\n",
    "getcontext().prec = 18\n",
    "\n",
    "def inside(p):\n",
    "    x, y = random.random(), random.random()\n",
    "    return x*x + y*y < 1\n",
    "\n",
    "# Increase the number of sample points\n",
    "n = 100000000  # 100 million\n",
    "\n",
    "count = sc.parallelize(range(0, n)) \\\n",
    "          .filter(inside) \\\n",
    "          .count()\n",
    "\n",
    "# Calculate pi with higher precision\n",
    "pi = Decimal(4.0) * Decimal(count) / Decimal(n)\n",
    "\n",
    "print(\"Pi is roughly\", pi)"
   ]
  },
  {
   "cell_type": "code",
   "execution_count": null,
   "id": "481057da-b62c-4c64-9539-b0ae24522a57",
   "metadata": {},
   "outputs": [],
   "source": []
  }
 ],
 "metadata": {
  "environment": {
   "kernel": "9c39b79e5d2e7072beb4bd59-runtime-0000af2aeecf",
   "name": "workbench-notebooks.m126",
   "type": "gcloud",
   "uri": "us-docker.pkg.dev/deeplearning-platform-release/gcr.io/workbench-notebooks:m126"
  },
  "kernelspec": {
   "display_name": "demo on Serverless Spark (Remote)",
   "language": "python",
   "name": "9c39b79e5d2e7072beb4bd59-runtime-0000af2aeecf"
  },
  "language_info": {
   "codemirror_mode": {
    "name": "ipython",
    "version": 3
   },
   "file_extension": ".py",
   "mimetype": "text/x-python",
   "name": "python",
   "nbconvert_exporter": "python",
   "pygments_lexer": "ipython3",
   "version": "3.12.3"
  }
 },
 "nbformat": 4,
 "nbformat_minor": 5
}
