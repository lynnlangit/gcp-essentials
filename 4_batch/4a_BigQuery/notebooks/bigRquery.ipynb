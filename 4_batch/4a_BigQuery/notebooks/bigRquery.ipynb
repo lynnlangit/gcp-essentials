{
 "cells": [
  {
   "cell_type": "code",
   "execution_count": null,
   "id": "196747a8-f2a1-4e3b-839e-9d9c90520444",
   "metadata": {},
   "outputs": [],
   "source": [
    "# Load the package\n",
    "library(bigrquery)"
   ]
  },
  {
   "cell_type": "code",
   "execution_count": null,
   "id": "94b47a52-d533-44b1-a1c6-463c8d1ab9a4",
   "metadata": {},
   "outputs": [],
   "source": [
    "# Set your GCP project\n",
    "projectid = \"genomics-compute\""
   ]
  },
  {
   "cell_type": "code",
   "execution_count": null,
   "id": "36d785e7-f662-4eae-af52-a68bcc5191ad",
   "metadata": {},
   "outputs": [],
   "source": [
    "# Query public BQ dataset\n",
    "sql <- \"SELECT year, month, day, weight_pounds FROM `publicdata.samples.natality`\"\n",
    "\n",
    "# Create R object with tabular data\n",
    "tb <- bq_project_query(projectid, sql)\n",
    "bq_table_download(tb, n_max = 10)"
   ]
  },
  {
   "cell_type": "code",
   "execution_count": null,
   "id": "107dde74-4136-4314-a3ec-0b2fe528369a",
   "metadata": {},
   "outputs": [],
   "source": [
    "# Use R library\n",
    "library(DBI)\n",
    "\n",
    "con <- dbConnect(\n",
    "  bigrquery::bigquery(),\n",
    "  project = \"publicdata\",\n",
    "  dataset = \"samples\",\n",
    "  billing = projectid\n",
    ")\n",
    "con "
   ]
  },
  {
   "cell_type": "code",
   "execution_count": null,
   "id": "00e95a0c-65f0-497f-b40c-ead00c97e024",
   "metadata": {},
   "outputs": [],
   "source": [
    "# List the available tables\n",
    "dbListTables(con)"
   ]
  },
  {
   "cell_type": "code",
   "execution_count": null,
   "id": "fb9ed620-5c28-404d-b8fa-dd7988751147",
   "metadata": {},
   "outputs": [],
   "source": [
    "# Use Another R library\n",
    "library(dplyr)\n",
    "natality <- tbl(con, \"natality\")"
   ]
  },
  {
   "cell_type": "code",
   "execution_count": null,
   "id": "bac8bbb6-91e9-4d62-9ff1-56df6476d45a",
   "metadata": {},
   "outputs": [],
   "source": [
    "# Use the R pipe operator\n",
    "natality %>%\n",
    "  select(year, month, day, weight_pounds) %>% \n",
    "  head(10) %>%\n",
    "  collect()"
   ]
  }
 ],
 "metadata": {
  "environment": {
   "kernel": "ir",
   "name": "r-cpu.4-2.m104",
   "type": "gcloud",
   "uri": "gcr.io/deeplearning-platform-release/r-cpu.4-2:m104"
  },
  "kernelspec": {
   "display_name": "R",
   "language": "R",
   "name": "ir"
  },
  "language_info": {
   "codemirror_mode": "r",
   "file_extension": ".r",
   "mimetype": "text/x-r-source",
   "name": "R",
   "pygments_lexer": "r",
   "version": "4.2.2"
  }
 },
 "nbformat": 4,
 "nbformat_minor": 5
}
