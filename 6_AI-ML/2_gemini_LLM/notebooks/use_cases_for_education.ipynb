{
 "cells": [
  {
   "cell_type": "code",
   "execution_count": null,
   "metadata": {
    "id": "ijGzTHJJUCPY"
   },
   "outputs": [],
   "source": [
    "# Copyright 2023 Google LLC\n",
    "#\n",
    "# Licensed under the Apache License, Version 2.0 (the \"License\");\n",
    "# you may not use this file except in compliance with the License.\n",
    "# You may obtain a copy of the License at\n",
    "#\n",
    "#     https://www.apache.org/licenses/LICENSE-2.0\n",
    "#\n",
    "# Unless required by applicable law or agreed to in writing, software\n",
    "# distributed under the License is distributed on an \"AS IS\" BASIS,\n",
    "# WITHOUT WARRANTIES OR CONDITIONS OF ANY KIND, either express or implied.\n",
    "# See the License for the specific language governing permissions and\n",
    "# limitations under the License."
   ]
  },
  {
   "attachments": {},
   "cell_type": "markdown",
   "metadata": {
    "id": "VEqbX8OhE8y9"
   },
   "source": [
    "# Using Gemini in Education\n",
    "\n",
    "<table align=\"left\">\n",
    "  <td style=\"text-align: center\">\n",
    "    <a href=\"https://colab.research.google.com/github/GoogleCloudPlatform/generative-ai/blob/main/gemini/use-cases/education/use_cases_for_education.ipynb\">\n",
    "      <img src=\"https://cloud.google.com/ml-engine/images/colab-logo-32px.png\" alt=\"Google Colaboratory logo\"><br> Run in Colab\n",
    "    </a>\n",
    "  </td>\n",
    "  <td style=\"text-align: center\">\n",
    "    <a href=\"https://github.com/GoogleCloudPlatform/generative-ai/blob/main/gemini/use-cases/education/use_cases_for_education.ipynb\">\n",
    "      <img src=\"https://cloud.google.com/ml-engine/images/github-logo-32px.png\" alt=\"GitHub logo\"><br> View on GitHub\n",
    "    </a>\n",
    "  </td>\n",
    "  <td style=\"text-align: center\">\n",
    "    <a href=\"https://console.cloud.google.com/vertex-ai/workbench/deploy-notebook?download_url=https://raw.githubusercontent.com/GoogleCloudPlatform/generative-ai/blob/main/gemini/use-cases/education/use_cases_for_education.ipynb\">\n",
    "      <img src=\"https://lh3.googleusercontent.com/UiNooY4LUgW_oTvpsNhPpQzsstV5W8F7rYgxgGBD85cWJoLmrOzhVs_ksK_vgx40SHs7jCqkTkCk=e14-rj-sc0xffffff-h130-w32\" alt=\"Vertex AI logo\"><br> Open in Vertex AI Workbench\n",
    "    </a>\n",
    "  </td>\n",
    "</table>\n"
   ]
  },
  {
   "cell_type": "markdown",
   "metadata": {
    "id": "VK1Q5ZYdVL4Y"
   },
   "source": [
    "## Overview\n",
    "\n",
    "In this notebook, you will explore a variety of use cases enabled by Gemini models in the context of education.\n",
    "\n",
    "### Gemini\n",
    "\n",
    "Gemini is a family of generative AI models developed by Google DeepMind that is designed for multimodal use cases. The Gemini API gives you access to the Gemini Pro Vision and Gemini Pro models.\n",
    "\n",
    "### Vertex AI Gemini API\n",
    "\n",
    "The Vertex AI Gemini API provides a unified interface for interacting with Gemini models. There are currently two models available in the Gemini API:\n",
    "\n",
    "- **Gemini Pro model** (`gemini-pro`): Designed to handle natural language tasks, multiturn text and code chat, and code generation.\n",
    "- **Gemini Pro Vision model** (`gemini-pro-vision`): Supports multimodal prompts. You can include text, images, and video in your prompt requests and get text or code responses.\n",
    "\n",
    "For more information, see the [Generative AI on Vertex AI](https://cloud.google.com/vertex-ai/docs/generative-ai/learn/overview) documentation.\n"
   ]
  },
  {
   "cell_type": "markdown",
   "metadata": {
    "id": "uVL_vGs4q3pg"
   },
   "source": [
    "### Objectives\n",
    "\n",
    "The main objective of this notebook is to demonstrate a variety of educational use cases that can benefit from the Gemini models.\n",
    "\n",
    "The steps performed include:\n",
    "\n",
    "- Installing the Python SDK\n",
    "- Using the Vertex AI Gemini API\n",
    "  - Using a text model (`gemini-pro`)\n",
    "    - Reasoning at different levels\n",
    "    - Reasoning on text\n",
    "    - Reasoning on numbers\n",
    "  - Using a multimodal model (`gemini-pro-vision`)\n",
    "    - Reasoning on a single image\n",
    "    - Reasoning on multiple images\n",
    "    - Reasoning on a video\n"
   ]
  },
  {
   "cell_type": "markdown",
   "metadata": {
    "id": "bRdtKLfTsQ27"
   },
   "source": [
    "### Costs\n",
    "\n",
    "This tutorial uses billable components of Google Cloud:\n",
    "\n",
    "- Vertex AI\n",
    "\n",
    "Learn about [Vertex AI pricing](https://cloud.google.com/vertex-ai/pricing) and use the [Pricing Calculator](https://cloud.google.com/products/calculator/) to generate a cost estimate based on your projected usage.\n"
   ]
  },
  {
   "cell_type": "markdown",
   "metadata": {
    "id": "QDU0XJ1xRDlL"
   },
   "source": [
    "## Getting Started\n"
   ]
  },
  {
   "cell_type": "markdown",
   "metadata": {
    "id": "SBGrQE22sVrt"
   },
   "source": [
    "### Install Vertex AI SDK\n"
   ]
  },
  {
   "cell_type": "code",
   "execution_count": null,
   "metadata": {
    "id": "-hqq5vomsW_P",
    "tags": []
   },
   "outputs": [],
   "source": [
    "! pip3 install --upgrade --user google-cloud-aiplatform"
   ]
  },
  {
   "cell_type": "markdown",
   "metadata": {
    "id": "6Fom0ZkMSBW6"
   },
   "source": [
    "### Restart current runtime\n",
    "\n",
    "To use the newly installed packages in this Jupyter runtime, it is recommended to restart the runtime. Run the following cell to restart the current kernel.\n",
    "\n",
    "The restart process might take a minute or so.\n"
   ]
  },
  {
   "cell_type": "code",
   "execution_count": null,
   "metadata": {
    "id": "LCaCx6PLSBW6",
    "tags": []
   },
   "outputs": [],
   "source": [
    "import IPython\n",
    "\n",
    "app = IPython.Application.instance()\n",
    "app.kernel.do_shutdown(True)"
   ]
  },
  {
   "cell_type": "markdown",
   "metadata": {
    "id": "Vl1g2mPXKmHE"
   },
   "source": [
    "After the restart is complete, continue to the next step.\n"
   ]
  },
  {
   "cell_type": "markdown",
   "metadata": {
    "id": "JOLg_xkTsbL1"
   },
   "source": [
    "<div class=\"alert alert-block alert-warning\">\n",
    "<b>⚠️ Wait for the kernel to finish restarting before you continue. ⚠️</b>\n",
    "</div>\n"
   ]
  },
  {
   "cell_type": "markdown",
   "metadata": {
    "id": "N5afkyDMSBW5"
   },
   "source": [
    "### Authenticate your notebook environment (Colab only)\n",
    "\n",
    "If you are running this notebook on Google Colab, run the following cell to authenticate your environment. This step is not required if you are using [Vertex AI Workbench](https://cloud.google.com/vertex-ai-workbench).\n"
   ]
  },
  {
   "cell_type": "code",
   "execution_count": null,
   "metadata": {
    "id": "Ab4Y6eSIUknb"
   },
   "outputs": [],
   "source": [
    "import sys\n",
    "\n",
    "# Additional authentication is required for Google Colab\n",
    "if \"google.colab\" in sys.modules:\n",
    "    # Authenticate user to Google Cloud\n",
    "    from google.colab import auth\n",
    "\n",
    "    auth.authenticate_user()"
   ]
  },
  {
   "cell_type": "markdown",
   "metadata": {
    "id": "kc4WxYmLSBW5"
   },
   "source": [
    "### Define Google Cloud project information (Colab only)\n",
    "\n",
    "If you are running this notebook on Google Colab, specify the Google Cloud project information to use. In the following cell, you specify your project information, import the Vertex AI package, and initialize the package. This step is not required if you are using [Vertex AI Workbench](https://cloud.google.com/vertex-ai-workbench).\n"
   ]
  },
  {
   "cell_type": "code",
   "execution_count": null,
   "metadata": {
    "id": "YmY9HVVGSBW5"
   },
   "outputs": [],
   "source": [
    "if \"google.colab\" in sys.modules:\n",
    "    # Define project information\n",
    "    PROJECT_ID = \"[your-project-id]\"  # @param {type:\"string\"}\n",
    "    LOCATION = \"us-central1\"  # @param {type:\"string\"}\n",
    "\n",
    "    # Initialize Vertex AI\n",
    "    import vertexai\n",
    "\n",
    "    vertexai.init(project=PROJECT_ID, location=LOCATION)"
   ]
  },
  {
   "cell_type": "markdown",
   "metadata": {
    "id": "kdINrwJZsj1d"
   },
   "source": [
    "### Import libraries\n"
   ]
  },
  {
   "cell_type": "code",
   "execution_count": 1,
   "metadata": {
    "executionInfo": {
     "elapsed": 324,
     "status": "ok",
     "timestamp": 1702337383496,
     "user": {
      "displayName": "Laurent Picard",
      "userId": "17424629147771078746"
     },
     "user_tz": -60
    },
    "id": "stNmWCsRsotM",
    "tags": []
   },
   "outputs": [],
   "source": [
    "from vertexai.preview.generative_models import (\n",
    "    GenerationConfig,\n",
    "    GenerationResponse,\n",
    "    GenerativeModel,\n",
    "    Image,\n",
    "    Part,\n",
    ")"
   ]
  },
  {
   "cell_type": "markdown",
   "metadata": {
    "id": "0v63w6fWs9Dx"
   },
   "source": [
    "### Define helper functions\n",
    "\n",
    "Define some helper functions to load and display images.\n"
   ]
  },
  {
   "cell_type": "code",
   "execution_count": 2,
   "metadata": {
    "executionInfo": {
     "elapsed": 2,
     "status": "ok",
     "timestamp": 1702337383496,
     "user": {
      "displayName": "Laurent Picard",
      "userId": "17424629147771078746"
     },
     "user_tz": -60
    },
    "id": "OGvJLH4DmZfw",
    "tags": []
   },
   "outputs": [],
   "source": [
    "import http.client\n",
    "import io\n",
    "import typing\n",
    "import urllib.request\n",
    "\n",
    "import IPython.display\n",
    "from PIL import Image as PIL_Image\n",
    "from PIL import ImageOps as PIL_ImageOps\n",
    "\n",
    "Contents = str | list[str | Image | Part]\n",
    "\n",
    "\n",
    "def generate_content(\n",
    "    model: GenerativeModel,\n",
    "    contents: Contents,\n",
    "    temperature: float = 0.0,\n",
    "    top_p: float = 0.0,\n",
    "    top_k: int = 1,\n",
    ") -> list[GenerationResponse]:\n",
    "    \"\"\"Call the Vertex AI Gemini API.\n",
    "\n",
    "    Default parameters have low randomness in this notebook for consistency across calls.\n",
    "    \"\"\"\n",
    "    generation_config = GenerationConfig(\n",
    "        temperature=temperature,\n",
    "        top_p=top_p,\n",
    "        top_k=top_k,\n",
    "        candidate_count=1,\n",
    "        max_output_tokens=2048,\n",
    "    )\n",
    "\n",
    "    responses = model.generate_content(\n",
    "        contents,\n",
    "        generation_config=generation_config,\n",
    "        stream=True,\n",
    "    )\n",
    "\n",
    "    # In streaming mode, multiple GenerationResponse can be generated\n",
    "    # In unary (non-streaming) mode, a single GenerationResponse is returned\n",
    "    return [responses] if isinstance(responses, GenerationResponse) else list(responses)\n",
    "\n",
    "\n",
    "def print_contents(contents: Contents):\n",
    "    \"\"\"Print the full contents for ease of readability.\"\"\"\n",
    "    if not isinstance(contents, list):\n",
    "        contents = [contents]\n",
    "\n",
    "    print(\" Contents \".center(80, \"-\"))\n",
    "    for content in contents:\n",
    "        if display_content_as_image(content):\n",
    "            continue\n",
    "        if display_content_as_video(content):\n",
    "            continue\n",
    "        print(content)\n",
    "\n",
    "\n",
    "def display_content_as_image(content: str | Image | Part) -> bool:\n",
    "    if not isinstance(content, Image):\n",
    "        return False\n",
    "    display_image(content)\n",
    "    return True\n",
    "\n",
    "\n",
    "def display_content_as_video(content: str | Image | Part) -> bool:\n",
    "    if not isinstance(content, Part):\n",
    "        return False\n",
    "    part = typing.cast(Part, content)\n",
    "    file_path = part.file_data.file_uri.removeprefix(\"gs://\")\n",
    "    video_url = f\"https://storage.googleapis.com/{file_path}\"\n",
    "    IPython.display.display(IPython.display.Video(video_url, width=600))\n",
    "    return True\n",
    "\n",
    "\n",
    "def print_responses(responses: list[GenerationResponse], as_markdown: bool = True):\n",
    "    \"\"\"Print the full responses.\"\"\"\n",
    "    # Consolidate the text\n",
    "    text = \"\".join(\n",
    "        part.text\n",
    "        for response in responses\n",
    "        for part in response.candidates[0].content.parts\n",
    "    )\n",
    "    # Remove potential leading/trailing spaces\n",
    "    text = text.strip()\n",
    "\n",
    "    print(\" Start of responses \".center(80, \"-\"))\n",
    "    if as_markdown:\n",
    "        IPython.display.display(IPython.display.Markdown(text))\n",
    "    else:\n",
    "        print(text)\n",
    "    print(\" End of responses \".center(80, \"-\"))\n",
    "    print(\"\")\n",
    "\n",
    "\n",
    "def display_image(image: Image, max_width: int = 600, max_height: int = 350):\n",
    "    pil_image = typing.cast(PIL_Image.Image, image._pil_image)\n",
    "    if pil_image.mode != \"RGB\":\n",
    "        # Modes such as RGBA are not yet supported by all Jupyter environments\n",
    "        pil_image = pil_image.convert(\"RGB\")\n",
    "\n",
    "    image_width, image_height = pil_image.size\n",
    "    if max_width < image_width or max_height < image_height:\n",
    "        # Resize to display a smaller notebook image\n",
    "        pil_image = PIL_ImageOps.contain(pil_image, (max_width, max_height))\n",
    "\n",
    "    display_image_compressed(pil_image)\n",
    "\n",
    "\n",
    "def display_image_compressed(pil_image: PIL_Image.Image):\n",
    "    \"\"\"Display the image in a compressed format to reduce the notebook size.\"\"\"\n",
    "    image_io = io.BytesIO()\n",
    "    pil_image.save(image_io, \"jpeg\", quality=80, optimize=True)\n",
    "    image_bytes = image_io.getvalue()\n",
    "    ipython_image = IPython.display.Image(image_bytes)\n",
    "    IPython.display.display(ipython_image)\n",
    "\n",
    "\n",
    "def load_image_from_url(image_url: str) -> Image:\n",
    "    image_bytes = get_image_bytes_from_url(image_url)\n",
    "    return Image.from_bytes(image_bytes)\n",
    "\n",
    "\n",
    "def get_image_bytes_from_url(image_url: str) -> bytes:\n",
    "    with urllib.request.urlopen(image_url) as response:\n",
    "        response = typing.cast(http.client.HTTPResponse, response)\n",
    "        image_bytes = response.read()\n",
    "    return image_bytes"
   ]
  },
  {
   "cell_type": "markdown",
   "metadata": {
    "id": "s9R3nV5bE22Z"
   },
   "source": [
    "## Use the Gemini Pro model\n",
    "\n",
    "The Gemini Pro (`gemini-pro`) model is designed to handle natural language tasks, multiturn text and code chat, and code generation.\n"
   ]
  },
  {
   "cell_type": "markdown",
   "metadata": {
    "id": "5kjS6MvEKmHF"
   },
   "source": [
    "### Load the Gemini Pro model\n"
   ]
  },
  {
   "cell_type": "code",
   "execution_count": 3,
   "metadata": {
    "executionInfo": {
     "elapsed": 2,
     "status": "ok",
     "timestamp": 1702337383834,
     "user": {
      "displayName": "Laurent Picard",
      "userId": "17424629147771078746"
     },
     "user_tz": -60
    },
    "id": "UnUmflwsE22a",
    "tags": []
   },
   "outputs": [],
   "source": [
    "model = GenerativeModel(\"gemini-pro\")"
   ]
  },
  {
   "cell_type": "markdown",
   "metadata": {
    "id": "9fm71OTvpyqD"
   },
   "source": [
    "### Reasoning at different levels\n"
   ]
  },
  {
   "cell_type": "markdown",
   "metadata": {
    "id": "zgf3t9odFlIj"
   },
   "source": [
    "You can ask for direct answers:\n"
   ]
  },
  {
   "cell_type": "code",
   "execution_count": 4,
   "metadata": {
    "colab": {
     "base_uri": "https://localhost:8080/",
     "height": 64
    },
    "executionInfo": {
     "elapsed": 965,
     "status": "ok",
     "timestamp": 1702337384797,
     "user": {
      "displayName": "Laurent Picard",
      "userId": "17424629147771078746"
     },
     "user_tz": -60
    },
    "id": "tBpDHLmMv2un",
    "outputId": "da0a9444-7d16-4522-ee30-76eec7ee8f2a",
    "tags": []
   },
   "outputs": [
    {
     "name": "stdout",
     "output_type": "stream",
     "text": [
      "----------------------------------- Contents -----------------------------------\n",
      "\n",
      "What happened to the dinosaurs? When?\n",
      "Explain simply in one sentence.\n",
      "\n",
      "------------------------------ Start of responses ------------------------------\n"
     ]
    },
    {
     "data": {
      "text/markdown": [
       "A giant asteroid impact near what is now Mexico caused their extinction 66 million years ago."
      ],
      "text/plain": [
       "<IPython.core.display.Markdown object>"
      ]
     },
     "metadata": {},
     "output_type": "display_data"
    },
    {
     "name": "stdout",
     "output_type": "stream",
     "text": [
      "------------------------------- End of responses -------------------------------\n",
      "\n"
     ]
    }
   ],
   "source": [
    "contents = \"\"\"\n",
    "What happened to the dinosaurs? When?\n",
    "Explain simply in one sentence.\n",
    "\"\"\"\n",
    "responses = generate_content(model, contents)\n",
    "print_contents(contents)\n",
    "print_responses(responses)"
   ]
  },
  {
   "cell_type": "markdown",
   "metadata": {
    "id": "Rfs1qLAoFrZu"
   },
   "source": [
    "… as well as for more nuanced answers:\n"
   ]
  },
  {
   "cell_type": "code",
   "execution_count": 5,
   "metadata": {
    "colab": {
     "base_uri": "https://localhost:8080/",
     "height": 586
    },
    "executionInfo": {
     "elapsed": 6374,
     "status": "ok",
     "timestamp": 1702337391168,
     "user": {
      "displayName": "Laurent Picard",
      "userId": "17424629147771078746"
     },
     "user_tz": -60
    },
    "id": "AcVfT9bowUKW",
    "outputId": "64df65b5-06c7-4c2b-9434-e9b32106f422",
    "tags": []
   },
   "outputs": [
    {
     "name": "stdout",
     "output_type": "stream",
     "text": [
      "----------------------------------- Contents -----------------------------------\n",
      "\n",
      "Are we 100% sure about what happened to the dinosaurs?\n",
      "If not, detail the current main hypotheses.\n",
      "\n",
      "------------------------------ Start of responses ------------------------------\n"
     ]
    },
    {
     "data": {
      "text/markdown": [
       "No, we are not 100% sure about what happened to the dinosaurs. While the asteroid impact hypothesis is widely accepted, there are still some uncertainties and alternative hypotheses.\n",
       "\n",
       "**1. Asteroid Impact Hypothesis:**\n",
       "\n",
       "- This is the most widely accepted theory.\n",
       "- It proposes that a massive asteroid or comet, approximately 6 miles in diameter, struck the Earth near what is now Chicxulub, Mexico, 66 million years ago.\n",
       "- The impact caused a series of catastrophic events, including a massive earthquake, tsunami, and wildfires.\n",
       "- The impact also released large amounts of dust and debris into the atmosphere, blocking sunlight and causing a global winter.\n",
       "- This combination of events led to the extinction of the dinosaurs and many other species.\n",
       "\n",
       "**2. Volcanic Eruptions Hypothesis:**\n",
       "\n",
       "- This hypothesis suggests that massive volcanic eruptions in the Deccan Traps region of India, which lasted for several million years, released large amounts of greenhouse gases into the atmosphere.\n",
       "- This caused global warming and climate change, leading to the extinction of the dinosaurs and other species.\n",
       "\n",
       "**3. Disease Hypothesis:**\n",
       "\n",
       "- This hypothesis proposes that a widespread disease or pathogen may have wiped out the dinosaurs.\n",
       "- Evidence for this hypothesis includes the discovery of dinosaur bones with lesions and other signs of disease.\n",
       "\n",
       "**4. Multiple Factors Hypothesis:**\n",
       "\n",
       "- Some scientists believe that a combination of factors, including the asteroid impact, volcanic eruptions, and disease, may have contributed to the extinction of the dinosaurs.\n",
       "- This hypothesis suggests that the asteroid impact and volcanic eruptions caused environmental changes that made the dinosaurs more susceptible to disease.\n",
       "\n",
       "**5. Other Hypotheses:**\n",
       "\n",
       "- There are several other hypotheses, such as changes in sea level, solar radiation, and comet showers, that have been proposed to explain the extinction of the dinosaurs.\n",
       "- However, these hypotheses have less supporting evidence and are generally not as widely accepted as the asteroid impact hypothesis."
      ],
      "text/plain": [
       "<IPython.core.display.Markdown object>"
      ]
     },
     "metadata": {},
     "output_type": "display_data"
    },
    {
     "name": "stdout",
     "output_type": "stream",
     "text": [
      "------------------------------- End of responses -------------------------------\n",
      "\n"
     ]
    }
   ],
   "source": [
    "contents = \"\"\"\n",
    "Are we 100% sure about what happened to the dinosaurs?\n",
    "If not, detail the current main hypotheses.\n",
    "\"\"\"\n",
    "responses = generate_content(model, contents)\n",
    "print_contents(contents)\n",
    "print_responses(responses)"
   ]
  },
  {
   "cell_type": "markdown",
   "metadata": {
    "id": "-KPNK1hNGCk4"
   },
   "source": [
    "You can ask for simple answers:\n"
   ]
  },
  {
   "cell_type": "code",
   "execution_count": 6,
   "metadata": {
    "colab": {
     "base_uri": "https://localhost:8080/",
     "height": 114
    },
    "executionInfo": {
     "elapsed": 1251,
     "status": "ok",
     "timestamp": 1702337392408,
     "user": {
      "displayName": "Laurent Picard",
      "userId": "17424629147771078746"
     },
     "user_tz": -60
    },
    "id": "SPoEA7UUqlvy",
    "outputId": "5e3695e0-a571-44b5-9b5d-51f747d6ec47",
    "tags": []
   },
   "outputs": [
    {
     "name": "stdout",
     "output_type": "stream",
     "text": [
      "----------------------------------- Contents -----------------------------------\n",
      "\n",
      "Explain why it's winter here in France and summer in Australia.\n",
      "I'm a kid. Answer in 3 simple key points.\n",
      "\n",
      "------------------------------ Start of responses ------------------------------\n"
     ]
    },
    {
     "data": {
      "text/markdown": [
       "1. The Earth is tilted on its axis.\n",
       "2. As the Earth orbits the Sun, different parts of the planet receive more or less direct sunlight at different times of the year.\n",
       "3. When it's winter in the Northern Hemisphere (where France is), it's summer in the Southern Hemisphere (where Australia is)."
      ],
      "text/plain": [
       "<IPython.core.display.Markdown object>"
      ]
     },
     "metadata": {},
     "output_type": "display_data"
    },
    {
     "name": "stdout",
     "output_type": "stream",
     "text": [
      "------------------------------- End of responses -------------------------------\n",
      "\n"
     ]
    }
   ],
   "source": [
    "contents = \"\"\"\n",
    "Explain why it's winter here in France and summer in Australia.\n",
    "I'm a kid. Answer in 3 simple key points.\n",
    "\"\"\"\n",
    "responses = generate_content(model, contents)\n",
    "print_contents(contents)\n",
    "print_responses(responses)"
   ]
  },
  {
   "cell_type": "markdown",
   "metadata": {
    "id": "gMlbj1-pGKkA"
   },
   "source": [
    "… or for more detailed answers:\n"
   ]
  },
  {
   "cell_type": "code",
   "execution_count": 7,
   "metadata": {
    "colab": {
     "base_uri": "https://localhost:8080/",
     "height": 285
    },
    "executionInfo": {
     "elapsed": 3762,
     "status": "ok",
     "timestamp": 1702337396166,
     "user": {
      "displayName": "Laurent Picard",
      "userId": "17424629147771078746"
     },
     "user_tz": -60
    },
    "id": "LdiaJBtbpXjM",
    "outputId": "578bc987-533d-4153-f0ce-528f8567718d",
    "tags": []
   },
   "outputs": [
    {
     "name": "stdout",
     "output_type": "stream",
     "text": [
      "----------------------------------- Contents -----------------------------------\n",
      "\n",
      "Explain why we have tides.\n",
      "I'm an adult. Provide a detailed answer using bullet points.\n",
      "\n",
      "------------------------------ Start of responses ------------------------------\n"
     ]
    },
    {
     "data": {
      "text/markdown": [
       "- **Gravitational pull of the Moon:** The Moon's gravity exerts a pull on the Earth's oceans, causing them to bulge out slightly on the side facing the Moon. This creates a high tide.\n",
       "\n",
       "\n",
       "- **Rotation of the Earth:** As the Earth rotates, different parts of the planet move through the Moon's gravitational field. This causes the tides to rise and fall twice a day.\n",
       "\n",
       "\n",
       "- **Centrifugal force:** The Earth's rotation also creates a centrifugal force that acts outward from the center of the planet. This force counteracts the Moon's gravity, reducing the height of the tides.\n",
       "\n",
       "\n",
       "- **Shape of the Earth:** The Earth's equatorial bulge and polar flattening also affect the tides. The bulge causes the tides to be higher at the equator than at the poles.\n",
       "\n",
       "\n",
       "- **Sun's gravity:** The Sun's gravity also exerts a pull on the Earth's oceans, but its effect is smaller than that of the Moon. The Sun's gravity causes the tides to rise and fall slightly twice a month.\n",
       "\n",
       "\n",
       "- **Resonance:** The Earth's rotation period and the Moon's orbital period are in resonance, meaning that they are synchronized. This resonance amplifies the tides, making them higher than they would be if the two periods were not in sync."
      ],
      "text/plain": [
       "<IPython.core.display.Markdown object>"
      ]
     },
     "metadata": {},
     "output_type": "display_data"
    },
    {
     "name": "stdout",
     "output_type": "stream",
     "text": [
      "------------------------------- End of responses -------------------------------\n",
      "\n"
     ]
    }
   ],
   "source": [
    "contents = \"\"\"\n",
    "Explain why we have tides.\n",
    "I'm an adult. Provide a detailed answer using bullet points.\n",
    "\"\"\"\n",
    "responses = generate_content(model, contents)\n",
    "print_contents(contents)\n",
    "print_responses(responses)"
   ]
  },
  {
   "cell_type": "markdown",
   "metadata": {
    "id": "hV6ULv8KHkxO"
   },
   "source": [
    "You can ask closed questions:\n"
   ]
  },
  {
   "cell_type": "code",
   "execution_count": 8,
   "metadata": {
    "colab": {
     "base_uri": "https://localhost:8080/",
     "height": 446
    },
    "executionInfo": {
     "elapsed": 3798,
     "status": "ok",
     "timestamp": 1702337399959,
     "user": {
      "displayName": "Laurent Picard",
      "userId": "17424629147771078746"
     },
     "user_tz": -60
    },
    "id": "dGk1uEPN0XXq",
    "outputId": "489716c2-c28b-4b0a-ab0b-c6523d8ed676",
    "tags": []
   },
   "outputs": [
    {
     "name": "stdout",
     "output_type": "stream",
     "text": [
      "----------------------------------- Contents -----------------------------------\n",
      "\n",
      "When were the previous and penultimate leap years?\n",
      "List 3 international competitions that took place during the penultimate one.\n",
      "Detail dates, cities, and venues.\n",
      "\n",
      "------------------------------ Start of responses ------------------------------\n"
     ]
    },
    {
     "data": {
      "text/markdown": [
       "- Previous leap year: 2020\n",
       "- Penultimate leap year: 2016\n",
       "\n",
       "### International competitions that took place in 2016:\n",
       "\n",
       "1. **Summer Olympics**\n",
       "   - Dates: August 5–21, 2016\n",
       "   - City: Rio de Janeiro, Brazil\n",
       "   - Venue: Various venues throughout the city, including the Maracanã Stadium, the Olympic Stadium, and the Barra Olympic Park.\n",
       "\n",
       "\n",
       "2. **UEFA European Championship**\n",
       "   - Dates: June 10–July 10, 2016\n",
       "   - City: Various cities throughout France\n",
       "   - Venue: Various stadiums throughout the country, including the Stade de France in Saint-Denis, the Parc des Princes in Paris, and the Stade Vélodrome in Marseille.\n",
       "\n",
       "\n",
       "3. **Copa América Centenario**\n",
       "   - Dates: June 3–26, 2016\n",
       "   - City: Various cities throughout the United States\n",
       "   - Venue: Various stadiums throughout the country, including the MetLife Stadium in East Rutherford, New Jersey, the Levi's Stadium in Santa Clara, California, and the CenturyLink Field in Seattle, Washington."
      ],
      "text/plain": [
       "<IPython.core.display.Markdown object>"
      ]
     },
     "metadata": {},
     "output_type": "display_data"
    },
    {
     "name": "stdout",
     "output_type": "stream",
     "text": [
      "------------------------------- End of responses -------------------------------\n",
      "\n"
     ]
    }
   ],
   "source": [
    "contents = \"\"\"\n",
    "When were the previous and penultimate leap years?\n",
    "List 3 international competitions that took place during the penultimate one.\n",
    "Detail dates, cities, and venues.\n",
    "\"\"\"\n",
    "responses = generate_content(model, contents)\n",
    "print_contents(contents)\n",
    "print_responses(responses)"
   ]
  },
  {
   "cell_type": "markdown",
   "metadata": {
    "id": "SzmiMEq_HsNF"
   },
   "source": [
    "… as well as questions that are more open:\n"
   ]
  },
  {
   "cell_type": "code",
   "execution_count": 9,
   "metadata": {
    "colab": {
     "base_uri": "https://localhost:8080/",
     "height": 521
    },
    "executionInfo": {
     "elapsed": 6829,
     "status": "ok",
     "timestamp": 1702337406783,
     "user": {
      "displayName": "Laurent Picard",
      "userId": "17424629147771078746"
     },
     "user_tz": -60
    },
    "id": "HqcYe_w5BvLT",
    "outputId": "176f5e86-d787-46cb-eb43-47ffbf74a79d"
   },
   "outputs": [
    {
     "name": "stdout",
     "output_type": "stream",
     "text": [
      "----------------------------------- Contents -----------------------------------\n",
      "\n",
      "What came first, the chicken or the egg? Explain from 3 different perspectives.\n",
      "What do we call a \"chicken and egg\" problem? Give 1 example that can occur in education.\n",
      "\n",
      "------------------------------ Start of responses ------------------------------\n"
     ]
    },
    {
     "data": {
      "text/markdown": [
       "**Perspectives on the Chicken and Egg Question:**\n",
       "\n",
       "1. **Biological Perspective:** From a biological standpoint, the egg came first. Chickens, like all other birds, reproduce by laying eggs. The egg contains all the necessary genetic material and nutrients for the development of a chick. The chicken, therefore, hatches from the egg, making the egg the starting point of the chicken's life cycle.\n",
       "\n",
       "2. **Evolutionary Perspective:** From an evolutionary perspective, the chicken came first. Chickens evolved from a common ancestor shared with other birds. Over time, through natural selection, these ancestral birds developed the characteristics that we now associate with chickens, including the ability to lay eggs. The egg, in this sense, is a product of the evolutionary process that led to the development of chickens.\n",
       "\n",
       "3. **Philosophical Perspective:** From a philosophical perspective, the question of which came first, the chicken or the egg, is a paradox. It challenges our understanding of causality and the concept of a beginning. Some philosophers argue that the question is unanswerable because it assumes a linear progression of events, which may not be applicable in this context. Others suggest that the chicken and the egg are interdependent and exist in a cyclical relationship, with each one giving rise to the other.\n",
       "\n",
       "**Chicken and Egg Problem in Education:**\n",
       "\n",
       "A \"chicken and egg\" problem in education refers to a situation where two factors are interdependent and mutually reinforcing, making it difficult to determine which one comes first or which one is the cause and which one is the effect.\n",
       "\n",
       "One example of a chicken and egg problem in education is the relationship between student motivation and academic achievement. On the one hand, motivated students are more likely to achieve academically. On the other hand, students who achieve academically are more likely to be motivated to continue learning. In this scenario, it is difficult to determine whether motivation leads to achievement or achievement leads to motivation. Both factors influence each other, creating a cyclical relationship.\n",
       "\n",
       "To address a chicken and egg problem in education, it is important to focus on interventions that target both factors simultaneously. For instance, to improve student motivation and academic achievement, educators can implement strategies that enhance student engagement, provide opportunities for success, and foster a positive learning environment. By addressing both motivation and achievement, educators can break the cycle and create a virtuous circle where each factor reinforces the other, leading to improved educational outcomes."
      ],
      "text/plain": [
       "<IPython.core.display.Markdown object>"
      ]
     },
     "metadata": {},
     "output_type": "display_data"
    },
    {
     "name": "stdout",
     "output_type": "stream",
     "text": [
      "------------------------------- End of responses -------------------------------\n",
      "\n"
     ]
    }
   ],
   "source": [
    "contents = \"\"\"\n",
    "What came first, the chicken or the egg? Explain from 3 different perspectives.\n",
    "What do we call a \"chicken and egg\" problem? Give 1 example that can occur in education.\n",
    "\"\"\"\n",
    "responses = generate_content(model, contents)\n",
    "print_contents(contents)\n",
    "print_responses(responses)"
   ]
  },
  {
   "cell_type": "markdown",
   "metadata": {
    "id": "BoqqOTjfL6HX"
   },
   "source": [
    "### Reasoning on text\n"
   ]
  },
  {
   "cell_type": "markdown",
   "metadata": {
    "id": "1dEt9vXqmGN5"
   },
   "source": [
    "You can summarize and translate text:\n"
   ]
  },
  {
   "cell_type": "code",
   "execution_count": 10,
   "metadata": {
    "colab": {
     "base_uri": "https://localhost:8080/",
     "height": 168
    },
    "executionInfo": {
     "elapsed": 1899,
     "status": "ok",
     "timestamp": 1702337408678,
     "user": {
      "displayName": "Laurent Picard",
      "userId": "17424629147771078746"
     },
     "user_tz": -60
    },
    "id": "jAbIQ5U3mGN5",
    "outputId": "d9183b50-3125-42b3-e6ba-dcd0c573767a",
    "tags": []
   },
   "outputs": [
    {
     "name": "stdout",
     "output_type": "stream",
     "text": [
      "----------------------------------- Contents -----------------------------------\n",
      "\n",
      "Summarize the following text in three sentences, in English, only using the text.\n",
      "\n",
      "TEXT:\n",
      "- Les hommes naissent et demeurent libres et égaux en droits. Les distinctions sociales ne peuvent être fondées que sur l'utilité commune.\n",
      "- Le but de toute association politique est la conservation des droits naturels et imprescriptibles de l'homme. Ces droits sont la liberté, la propriété, la sûreté et la résistance à l'oppression.\n",
      "- Le principe de toute souveraineté réside essentiellement dans la Nation. Nul corps, nul individu ne peut exercer d'autorité qui n'en émane expressément.\n",
      "- La liberté consiste à pouvoir faire tout ce qui ne nuit pas à autrui : ainsi, l'exercice des droits naturels de chaque homme n'a de bornes que celles qui assurent aux autres membres de la société la jouissance de ces mêmes droits. Ces bornes ne peuvent être déterminées que par la loi.\n",
      "La loi n'a le droit de défendre que les actions nuisibles à la société. Tout ce qui n'est pas défendu par la loi ne peut être empêché, et nul ne peut être contraint à faire ce qu'elle n'ordonne pas.\n",
      "- La loi est l'expression de la volonté générale. Tous les citoyens ont droit de concourir personnellement ou par leurs représentants à sa formation. Elle doit être la même pour tous, soit qu'elle protège, soit qu'elle punisse. Tous les citoyens, étant égaux à ses yeux, sont également admissibles à toutes dignités, places et emplois publics, selon leur capacité et sans autre distinction que celle de leurs vertus et de leurs talents.\n",
      "- Nul homme ne peut être accusé, arrêté ou détenu que dans les cas déterminés par la loi et selon les formes qu'elle a prescrites. Ceux qui sollicitent, expédient, exécutent ou font exécuter des ordres arbitraires doivent être punis ; mais tout citoyen appelé ou saisi en vertu de la loi doit obéir à l'instant ; il se rend coupable par la résistance.\n",
      "- La loi ne doit établir que des peines strictement et évidemment nécessaires, et nul ne peut être puni qu'en vertu d'une loi établie et promulguée antérieurement au délit, et légalement appliquée.\n",
      "Tout homme étant présumé innocent jusqu'à ce qu'il ait été déclaré coupable, s'il est jugé indispensable de l'arrêter, toute rigueur qui ne serait pas nécessaire pour s'assurer de sa personne doit être sévèrement réprimée par la loi.\n",
      "- Nul ne doit être inquiété pour ses opinions, même religieuses, pourvu que leur manifestation ne trouble pas l'ordre public établi par la loi.\n",
      "\n",
      "SUMMARY:\n",
      "-\n",
      "\n",
      "------------------------------ Start of responses ------------------------------\n"
     ]
    },
    {
     "data": {
      "text/markdown": [
       "- The Declaration of the Rights of Man and of the Citizen establishes that all men are born free and equal in rights, and that the purpose of political association is to preserve natural and imprescriptible rights, such as liberty, property, security, and resistance to oppression.\n",
       "- The principle of sovereignty resides in the nation, and no body or individual can exercise authority that does not expressly emanate from it.\n",
       "- The law is the expression of the general will, and all citizens have the right to contribute personally or through their representatives to its formation."
      ],
      "text/plain": [
       "<IPython.core.display.Markdown object>"
      ]
     },
     "metadata": {},
     "output_type": "display_data"
    },
    {
     "name": "stdout",
     "output_type": "stream",
     "text": [
      "------------------------------- End of responses -------------------------------\n",
      "\n"
     ]
    }
   ],
   "source": [
    "contents = \"\"\"\n",
    "Summarize the following text in three sentences, in English, only using the text.\n",
    "\n",
    "TEXT:\n",
    "- Les hommes naissent et demeurent libres et égaux en droits. Les distinctions sociales ne peuvent être fondées que sur l'utilité commune.\n",
    "- Le but de toute association politique est la conservation des droits naturels et imprescriptibles de l'homme. Ces droits sont la liberté, la propriété, la sûreté et la résistance à l'oppression.\n",
    "- Le principe de toute souveraineté réside essentiellement dans la Nation. Nul corps, nul individu ne peut exercer d'autorité qui n'en émane expressément.\n",
    "- La liberté consiste à pouvoir faire tout ce qui ne nuit pas à autrui : ainsi, l'exercice des droits naturels de chaque homme n'a de bornes que celles qui assurent aux autres membres de la société la jouissance de ces mêmes droits. Ces bornes ne peuvent être déterminées que par la loi.\n",
    "La loi n'a le droit de défendre que les actions nuisibles à la société. Tout ce qui n'est pas défendu par la loi ne peut être empêché, et nul ne peut être contraint à faire ce qu'elle n'ordonne pas.\n",
    "- La loi est l'expression de la volonté générale. Tous les citoyens ont droit de concourir personnellement ou par leurs représentants à sa formation. Elle doit être la même pour tous, soit qu'elle protège, soit qu'elle punisse. Tous les citoyens, étant égaux à ses yeux, sont également admissibles à toutes dignités, places et emplois publics, selon leur capacité et sans autre distinction que celle de leurs vertus et de leurs talents.\n",
    "- Nul homme ne peut être accusé, arrêté ou détenu que dans les cas déterminés par la loi et selon les formes qu'elle a prescrites. Ceux qui sollicitent, expédient, exécutent ou font exécuter des ordres arbitraires doivent être punis ; mais tout citoyen appelé ou saisi en vertu de la loi doit obéir à l'instant ; il se rend coupable par la résistance.\n",
    "- La loi ne doit établir que des peines strictement et évidemment nécessaires, et nul ne peut être puni qu'en vertu d'une loi établie et promulguée antérieurement au délit, et légalement appliquée.\n",
    "Tout homme étant présumé innocent jusqu'à ce qu'il ait été déclaré coupable, s'il est jugé indispensable de l'arrêter, toute rigueur qui ne serait pas nécessaire pour s'assurer de sa personne doit être sévèrement réprimée par la loi.\n",
    "- Nul ne doit être inquiété pour ses opinions, même religieuses, pourvu que leur manifestation ne trouble pas l'ordre public établi par la loi.\n",
    "\n",
    "SUMMARY:\n",
    "-\n",
    "\"\"\"\n",
    "responses = generate_content(model, contents)\n",
    "print_contents(contents)\n",
    "print_responses(responses)"
   ]
  },
  {
   "cell_type": "markdown",
   "metadata": {
    "id": "Ri8Yx5vtE22b"
   },
   "source": [
    "… as well as ask for ideas:\n"
   ]
  },
  {
   "cell_type": "code",
   "execution_count": 11,
   "metadata": {
    "colab": {
     "base_uri": "https://localhost:8080/",
     "height": 498
    },
    "executionInfo": {
     "elapsed": 4657,
     "status": "ok",
     "timestamp": 1702337413331,
     "user": {
      "displayName": "Laurent Picard",
      "userId": "17424629147771078746"
     },
     "user_tz": -60
    },
    "id": "k5pXqmNJmGN5",
    "outputId": "a8e71ad6-f437-4e18-c557-b62fa38b1c9a",
    "tags": []
   },
   "outputs": [
    {
     "name": "stdout",
     "output_type": "stream",
     "text": [
      "----------------------------------- Contents -----------------------------------\n",
      "\n",
      "Provide an outline in 5 key points for a \"chocolate in the world\" presentation.\n",
      "One part must be about its origin in Mexico (my teacher has family there).\n",
      "The last one will be a tasting with everybody in the classroom.\n",
      "\n",
      "------------------------------ Start of responses ------------------------------\n"
     ]
    },
    {
     "data": {
      "text/markdown": [
       "1. **Chocolate Origins**:\n",
       "   - Discuss the history of chocolate, tracing its roots back to ancient Mesoamerica.\n",
       "   - Highlight the significance of Mexico as the birthplace of chocolate, with a focus on your teacher's family connection to the region.\n",
       "   - Describe the traditional methods of chocolate cultivation and preparation used by indigenous communities in Mexico.\n",
       "\n",
       "2. **Global Spread of Chocolate**:\n",
       "   - Explain how chocolate was introduced to Europe by Spanish explorers and quickly gained popularity as a luxury item.\n",
       "   - Mention the role of trade and colonization in spreading chocolate to different parts of the world, including Africa, Asia, and the Americas.\n",
       "   - Discuss the evolution of chocolate production techniques, from small-scale artisanal methods to large-scale industrial manufacturing.\n",
       "\n",
       "3. **Health Benefits**:\n",
       "   - Present scientific evidence supporting the health benefits of chocolate, such as its antioxidant properties, potential heart health benefits, and mood-boosting effects.\n",
       "   - Emphasize the importance of consuming chocolate in moderation and choosing high-quality, dark chocolate with a high cocoa content.\n",
       "   - Address common misconceptions about chocolate being unhealthy and debunk any myths surrounding its consumption.\n",
       "\n",
       "4. **Cultural Significance**:\n",
       "   - Explore the cultural significance of chocolate in different societies around the world, including its use in religious ceremonies, festivals, and celebrations.\n",
       "   - Discuss the role of chocolate in art, literature, and popular culture, highlighting famous chocolate-inspired works and traditions.\n",
       "   - Mention the social and economic impact of the chocolate industry, including its role in supporting cocoa-growing communities and promoting sustainable farming practices.\n",
       "\n",
       "5. **Tasting**:\n",
       "   - Conduct a chocolate tasting session with the class, providing a variety of chocolate samples with different cocoa percentages, flavors, and origins.\n",
       "   - Guide the students through a sensory evaluation process, encouraging them to identify and describe the different characteristics of each chocolate.\n",
       "   - Discuss the factors that influence the taste and quality of chocolate, such as the cocoa bean variety, fermentation, roasting, and conching processes."
      ],
      "text/plain": [
       "<IPython.core.display.Markdown object>"
      ]
     },
     "metadata": {},
     "output_type": "display_data"
    },
    {
     "name": "stdout",
     "output_type": "stream",
     "text": [
      "------------------------------- End of responses -------------------------------\n",
      "\n"
     ]
    }
   ],
   "source": [
    "contents = \"\"\"\n",
    "Provide an outline in 5 key points for a \"chocolate in the world\" presentation.\n",
    "One part must be about its origin in Mexico (my teacher has family there).\n",
    "The last one will be a tasting with everybody in the classroom.\n",
    "\"\"\"\n",
    "\n",
    "# For more creative/diverse answers, let's increase the level of randomness.\n",
    "# Successive requests will likely return different responses.\n",
    "temperature = 0.7\n",
    "top_p = 0.8\n",
    "top_k = 40\n",
    "\n",
    "responses = generate_content(model, contents, temperature, top_p, top_k)\n",
    "\n",
    "print_contents(contents)\n",
    "print_responses(responses)"
   ]
  },
  {
   "cell_type": "markdown",
   "metadata": {
    "id": "zf25rsTSkdXu"
   },
   "source": [
    "You can also ask for text corrections:\n",
    "\n",
    "Below, you can provide some examples of expected responses (i.e. few-shot prompting) so that the model can understand what kind of response you are expecting.\n"
   ]
  },
  {
   "cell_type": "code",
   "execution_count": 12,
   "metadata": {
    "colab": {
     "base_uri": "https://localhost:8080/",
     "height": 541
    },
    "executionInfo": {
     "elapsed": 5001,
     "status": "ok",
     "timestamp": 1702337418328,
     "user": {
      "displayName": "Laurent Picard",
      "userId": "17424629147771078746"
     },
     "user_tz": -60
    },
    "id": "jgKEDKVkL8Ub",
    "outputId": "b3c0b14f-e42d-40a1-bf71-bd764acedf4f",
    "tags": []
   },
   "outputs": [
    {
     "name": "stdout",
     "output_type": "stream",
     "text": [
      "----------------------------------- Contents -----------------------------------\n",
      "\n",
      "I'm a non-native English speaker.\n",
      "Check whether the following sentences are correct.\n",
      "When incorrect, provide a correction and an explanation.\n",
      "Use the same structure as in the given examples.\n",
      "\n",
      "EXAMPLES:\n",
      "- **Hi!**\n",
      "  - Status: ✔️\n",
      "- **Your my best freind!**\n",
      "  - Status: ❌\n",
      "  - Correction: **You're my best friend!**\n",
      "  - Explanation:\n",
      "    - \"**Your**\" is incorrect. It seems that you meant \"You're\", which is the short form of \"You are\".\n",
      "    - \"**freind**\" is misspelled. The correct spelling is \"**friend**\".\n",
      "\n",
      "SENTENCES:\n",
      "- They're twins, isn't it?\n",
      "- I assisted to the meeting.\n",
      "- You recieved important informations.\n",
      "- I digged a hole in the ice and saw lots of fishes.\n",
      "- That's all folks!\n",
      "\n",
      "------------------------------ Start of responses ------------------------------\n"
     ]
    },
    {
     "data": {
      "text/markdown": [
       "- **They're twins, isn't it?**\n",
       "  - Status: ❌\n",
       "  - Correction: **They're twins, aren't they?**\n",
       "  - Explanation:\n",
       "    - \"**isn't it**\" is incorrect. It should be \"**aren't they**\" because \"**they**\" is plural.\n",
       "\n",
       "\n",
       "- **I assisted to the meeting.**\n",
       "  - Status: ❌\n",
       "  - Correction: **I attended the meeting.**\n",
       "  - Explanation:\n",
       "    - \"**assisted**\" is incorrect. It seems that you meant \"**attended**\", which means to be present at an event.\n",
       "\n",
       "\n",
       "- **You recieved important informations.**\n",
       "  - Status: ❌\n",
       "  - Correction: **You received important information.**\n",
       "  - Explanation:\n",
       "    - \"**recieved**\" is misspelled. The correct spelling is \"**received**\".\n",
       "    - \"**informations**\" is incorrect. It should be \"**information**\" because \"**information**\" is uncountable.\n",
       "\n",
       "\n",
       "- **I digged a hole in the ice and saw lots of fishes.**\n",
       "  - Status: ❌\n",
       "  - Correction: **I dug a hole in the ice and saw many fish.**\n",
       "  - Explanation:\n",
       "    - \"**digged**\" is incorrect. The past tense of \"**dig**\" is \"**dug**\".\n",
       "    - \"**fishes**\" is incorrect. It should be \"**fish**\" because \"**fish**\" is uncountable.\n",
       "\n",
       "\n",
       "- **That's all folks!**\n",
       "  - Status: ✔️"
      ],
      "text/plain": [
       "<IPython.core.display.Markdown object>"
      ]
     },
     "metadata": {},
     "output_type": "display_data"
    },
    {
     "name": "stdout",
     "output_type": "stream",
     "text": [
      "------------------------------- End of responses -------------------------------\n",
      "\n"
     ]
    }
   ],
   "source": [
    "contents = \"\"\"\n",
    "I'm a non-native English speaker.\n",
    "Check whether the following sentences are correct.\n",
    "When incorrect, provide a correction and an explanation.\n",
    "Use the same structure as in the given examples.\n",
    "\n",
    "EXAMPLES:\n",
    "- **Hi!**\n",
    "  - Status: ✔️\n",
    "- **Your my best freind!**\n",
    "  - Status: ❌\n",
    "  - Correction: **You're my best friend!**\n",
    "  - Explanation:\n",
    "    - \"**Your**\" is incorrect. It seems that you meant \"You're\", which is the short form of \"You are\".\n",
    "    - \"**freind**\" is misspelled. The correct spelling is \"**friend**\".\n",
    "\n",
    "SENTENCES:\n",
    "- They're twins, isn't it?\n",
    "- I assisted to the meeting.\n",
    "- You recieved important informations.\n",
    "- I digged a hole in the ice and saw lots of fishes.\n",
    "- That's all folks!\n",
    "\"\"\"\n",
    "responses = generate_content(model, contents)\n",
    "print_contents(contents)\n",
    "print_responses(responses)"
   ]
  },
  {
   "cell_type": "markdown",
   "metadata": {
    "id": "ach9JtNikxVz"
   },
   "source": [
    "… as well as ask for elaborate tasks on text and languages:\n"
   ]
  },
  {
   "cell_type": "code",
   "execution_count": 13,
   "metadata": {
    "colab": {
     "base_uri": "https://localhost:8080/",
     "height": 267
    },
    "executionInfo": {
     "elapsed": 4016,
     "status": "ok",
     "timestamp": 1702337422329,
     "user": {
      "displayName": "Laurent Picard",
      "userId": "17424629147771078746"
     },
     "user_tz": -60
    },
    "id": "P0xdsfQDE22b",
    "outputId": "0b74d75b-fae7-4ac2-dc3c-a03f49802620",
    "tags": []
   },
   "outputs": [
    {
     "name": "stdout",
     "output_type": "stream",
     "text": [
      "----------------------------------- Contents -----------------------------------\n",
      "\n",
      "Translate the text into the following languages.\n",
      "\n",
      "TEXT:\n",
      "Hello folks! I hope you're all doing well. Let's get this workshop started!\n",
      "We'll stick to English because, actually, I can't speak all those languages.\n",
      "\n",
      "LANGUAGES:\n",
      "German, French, Greek, Bulgarian, Japanese\n",
      "\n",
      "------------------------------ Start of responses ------------------------------\n"
     ]
    },
    {
     "data": {
      "text/markdown": [
       "**German:**\n",
       "Hallo Leute! Ich hoffe, es geht euch allen gut. Lasst uns diesen Workshop beginnen!\n",
       "Wir bleiben beim Englischen, weil ich tatsächlich nicht all diese Sprachen sprechen kann.\n",
       "\n",
       "**French:**\n",
       "Bonjour à tous ! J'espère que vous allez tous bien. Commençons cet atelier !\n",
       "Nous nous en tiendrons à l'anglais car, en fait, je ne parle pas toutes ces langues.\n",
       "\n",
       "**Greek:**\n",
       "Γεια σας παιδιά! Ελπίζω να είστε όλοι καλά. Ας ξεκινήσουμε αυτό το εργαστήριο!\n",
       "Θα μείνουμε στα Αγγλικά γιατί, στην πραγματικότητα, δεν μπορώ να μιλήσω όλες αυτές τις γλώσσες.\n",
       "\n",
       "**Bulgarian:**\n",
       "Здравейте, хора! Надявам се, че всички сте добре. Нека започнем този семинар!\n",
       "Ще се придържаме към английския, защото всъщност не мога да говоря всички тези езици.\n",
       "\n",
       "**Japanese:**\n",
       "皆さん、こんにちは！皆さんお元気ですか？それでは、ワークショップを始めましょう！\n",
       "英語で進めさせていただきます。というのも、私はそれ以外の言語を話せないからです。"
      ],
      "text/plain": [
       "<IPython.core.display.Markdown object>"
      ]
     },
     "metadata": {},
     "output_type": "display_data"
    },
    {
     "name": "stdout",
     "output_type": "stream",
     "text": [
      "------------------------------- End of responses -------------------------------\n",
      "\n"
     ]
    }
   ],
   "source": [
    "contents = \"\"\"\n",
    "Translate the text into the following languages.\n",
    "\n",
    "TEXT:\n",
    "Hello folks! I hope you're all doing well. Let's get this workshop started!\n",
    "We'll stick to English because, actually, I can't speak all those languages.\n",
    "\n",
    "LANGUAGES:\n",
    "German, French, Greek, Bulgarian, Japanese\n",
    "\"\"\"\n",
    "responses = generate_content(model, contents)\n",
    "print_contents(contents)\n",
    "print_responses(responses)"
   ]
  },
  {
   "cell_type": "code",
   "execution_count": 14,
   "metadata": {
    "colab": {
     "base_uri": "https://localhost:8080/",
     "height": 383
    },
    "executionInfo": {
     "elapsed": 4647,
     "status": "ok",
     "timestamp": 1702337426964,
     "user": {
      "displayName": "Laurent Picard",
      "userId": "17424629147771078746"
     },
     "user_tz": -60
    },
    "id": "LSNoxDSeZWw-",
    "outputId": "f8bf5a60-60c7-4599-8022-ff2a42f0fc06",
    "tags": []
   },
   "outputs": [
    {
     "name": "stdout",
     "output_type": "stream",
     "text": [
      "----------------------------------- Contents -----------------------------------\n",
      "\n",
      "I'm a non-native English speaker and made mistakes in the following sentences.\n",
      "Guess my native language.\n",
      "Explain why these are typical mistakes.\n",
      "If there are several possibilities, here is a hint: I like cheese.\n",
      "\n",
      "SENTENCES:\n",
      "- They are twin sisters, isn't it?\n",
      "- I assisted to the meeting.\n",
      "- I saw lots of fishes.\n",
      "\n",
      "------------------------------ Start of responses ------------------------------\n"
     ]
    },
    {
     "data": {
      "text/markdown": [
       "Your native language is likely French.\n",
       "\n",
       "Here are the explanations for each mistake:\n",
       "\n",
       "- \"They are twin sisters, isn't it?\"\n",
       "   - In English, the correct way to say this would be \"They are twin sisters, aren't they?\"\n",
       "   - In French, the verb \"être\" (to be) is conjugated differently for different subjects, including the third person plural \"ils/elles\" (they).\n",
       "   - The correct conjugation for \"ils/elles\" is \"sont\", which is why you might have made this mistake.\n",
       "\n",
       "\n",
       "- \"I assisted to the meeting.\"\n",
       "   - In English, the correct way to say this would be \"I attended the meeting.\"\n",
       "   - In French, the verb \"assister\" (to attend) is often used with the preposition \"à\" (to).\n",
       "   - This is why you might have made the mistake of using \"assisted to\" instead of \"attended\".\n",
       "\n",
       "\n",
       "- \"I saw lots of fishes.\"\n",
       "   - In English, the correct way to say this would be \"I saw lots of fish.\"\n",
       "   - In French, the word \"poisson\" (fish) is used in the plural form \"poissons\" when referring to multiple fish.\n",
       "   - This is why you might have made the mistake of using \"fishes\" instead of \"fish\"."
      ],
      "text/plain": [
       "<IPython.core.display.Markdown object>"
      ]
     },
     "metadata": {},
     "output_type": "display_data"
    },
    {
     "name": "stdout",
     "output_type": "stream",
     "text": [
      "------------------------------- End of responses -------------------------------\n",
      "\n"
     ]
    }
   ],
   "source": [
    "contents = \"\"\"\n",
    "I'm a non-native English speaker and made mistakes in the following sentences.\n",
    "Guess my native language.\n",
    "Explain why these are typical mistakes.\n",
    "If there are several possibilities, here is a hint: I like cheese.\n",
    "\n",
    "SENTENCES:\n",
    "- They are twin sisters, isn't it?\n",
    "- I assisted to the meeting.\n",
    "- I saw lots of fishes.\n",
    "\"\"\"\n",
    "responses = generate_content(model, contents)\n",
    "print_contents(contents)\n",
    "print_responses(responses)"
   ]
  },
  {
   "cell_type": "markdown",
   "metadata": {
    "id": "AIl7R_jBUsaC"
   },
   "source": [
    "### Reasoning on numbers\n"
   ]
  },
  {
   "cell_type": "markdown",
   "metadata": {
    "id": "hm61coMZJX-o"
   },
   "source": [
    "> Note: Like any LLM, Gemini generates plausible-sounding outputs, but may still hallucinate. Depending on inputs and parameters, outputs can be inaccurate, including math operations. As a best practice, you may want to consider prompting the LLM with step-by-step instructions to reduce hallucinations, or use a calculator library rather than an LLM.\n",
    "\n",
    "You can ask about real life problems:\n"
   ]
  },
  {
   "cell_type": "code",
   "execution_count": 15,
   "metadata": {
    "colab": {
     "base_uri": "https://localhost:8080/",
     "height": 498
    },
    "executionInfo": {
     "elapsed": 3792,
     "status": "ok",
     "timestamp": 1702337430752,
     "user": {
      "displayName": "Laurent Picard",
      "userId": "17424629147771078746"
     },
     "user_tz": -60
    },
    "id": "nmvIJfDUmGN6",
    "outputId": "44b38862-e1b1-4d5b-a8f1-af360ef66bc9",
    "tags": []
   },
   "outputs": [
    {
     "name": "stdout",
     "output_type": "stream",
     "text": [
      "----------------------------------- Contents -----------------------------------\n",
      "\n",
      "Patricia is a good runner and runs at an average 12 km/h.\n",
      "- On Monday, she ran for 1.5 hour. What distance did she run?\n",
      "- On Tuesday, she ran for 21 km. How long did she run?\n",
      "- On Wednesday, she ran for 150 minutes. What distance did she run?\n",
      "- Next, she plans to do a marathon (42 km). How long should it take?\n",
      "- To complete a marathon in 3 hours, how much faster does she need to run?\n",
      "\n",
      "Detail the answers step by step.\n",
      "\n",
      "------------------------------ Start of responses ------------------------------\n"
     ]
    },
    {
     "data": {
      "text/markdown": [
       "1. **Monday:**\n",
       "   - Distance = Speed × Time\n",
       "   - Distance = 12 km/h × 1.5 h\n",
       "   - Distance = 18 km\n",
       "\n",
       "2. **Tuesday:**\n",
       "   - Time = Distance / Speed\n",
       "   - Time = 21 km / 12 km/h\n",
       "   - Time = 1.75 hours or 1 hour and 45 minutes\n",
       "\n",
       "3. **Wednesday:**\n",
       "   - Distance = Speed × Time\n",
       "   - Distance = 12 km/h × 2.5 h\n",
       "   - Distance = 30 km\n",
       "\n",
       "4. **Marathon (42 km):**\n",
       "   - Time = Distance / Speed\n",
       "   - Time = 42 km / 12 km/h\n",
       "   - Time = 3.5 hours or 3 hours and 30 minutes\n",
       "\n",
       "5. **To complete a marathon in 3 hours:**\n",
       "   - Speed = Distance / Time\n",
       "   - Speed = 42 km / 3 h\n",
       "   - Speed = 14 km/h\n",
       "   - Increase in speed = 14 km/h - 12 km/h = 2 km/h"
      ],
      "text/plain": [
       "<IPython.core.display.Markdown object>"
      ]
     },
     "metadata": {},
     "output_type": "display_data"
    },
    {
     "name": "stdout",
     "output_type": "stream",
     "text": [
      "------------------------------- End of responses -------------------------------\n",
      "\n"
     ]
    }
   ],
   "source": [
    "contents = \"\"\"\n",
    "Patricia is a good runner and runs at an average 12 km/h.\n",
    "- On Monday, she ran for 1.5 hour. What distance did she run?\n",
    "- On Tuesday, she ran for 21 km. How long did she run?\n",
    "- On Wednesday, she ran for 150 minutes. What distance did she run?\n",
    "- Next, she plans to do a marathon (42 km). How long should it take?\n",
    "- To complete a marathon in 3 hours, how much faster does she need to run?\n",
    "\n",
    "Detail the answers step by step.\n",
    "\"\"\"\n",
    "responses = generate_content(model, contents)\n",
    "print_contents(contents)\n",
    "print_responses(responses)"
   ]
  },
  {
   "cell_type": "markdown",
   "metadata": {
    "id": "_nZwoSe0mGN6"
   },
   "source": [
    "… or about classical problems:\n"
   ]
  },
  {
   "cell_type": "code",
   "execution_count": 16,
   "metadata": {
    "colab": {
     "base_uri": "https://localhost:8080/",
     "height": 160
    },
    "executionInfo": {
     "elapsed": 1519,
     "status": "ok",
     "timestamp": 1702337432266,
     "user": {
      "displayName": "Laurent Picard",
      "userId": "17424629147771078746"
     },
     "user_tz": -60
    },
    "id": "R6dmn9_Q0Be0",
    "outputId": "c574f8a2-6ebd-4e0d-cf5c-af456f93a632",
    "tags": []
   },
   "outputs": [
    {
     "name": "stdout",
     "output_type": "stream",
     "text": [
      "----------------------------------- Contents -----------------------------------\n",
      "\n",
      "I just borrowed 1,000 EUR from a friend.\n",
      "We agreed on a 4.5% simple interest rate.\n",
      "I want to know how much I'll have to refund in 1, 2, or 3 years.\n",
      "Present the results in a recap table.\n",
      "\n",
      "------------------------------ Start of responses ------------------------------\n"
     ]
    },
    {
     "data": {
      "text/markdown": [
       "| Year | Interest | Principal | Total |\n",
       "|---|---|---|---|\n",
       "| 1 | 45 EUR | 1,000 EUR | 1,045 EUR |\n",
       "| 2 | 90 EUR | 1,000 EUR | 1,090 EUR |\n",
       "| 3 | 135 EUR | 1,000 EUR | 1,135 EUR |"
      ],
      "text/plain": [
       "<IPython.core.display.Markdown object>"
      ]
     },
     "metadata": {},
     "output_type": "display_data"
    },
    {
     "name": "stdout",
     "output_type": "stream",
     "text": [
      "------------------------------- End of responses -------------------------------\n",
      "\n"
     ]
    }
   ],
   "source": [
    "contents = \"\"\"\n",
    "I just borrowed 1,000 EUR from a friend.\n",
    "We agreed on a 4.5% simple interest rate.\n",
    "I want to know how much I'll have to refund in 1, 2, or 3 years.\n",
    "Present the results in a recap table.\n",
    "\"\"\"\n",
    "responses = generate_content(model, contents)\n",
    "print_contents(contents)\n",
    "print_responses(responses)"
   ]
  },
  {
   "cell_type": "markdown",
   "metadata": {
    "id": "XBv4oOPpU50E"
   },
   "source": [
    "## Using the Gemini Pro Vision model\n",
    "\n",
    "Gemini Pro Vision (`gemini-pro-vision`) is a multimodal model that supports multimodal prompts. You can include text, image(s), and video in your prompt requests and get text or code responses.\n"
   ]
  },
  {
   "cell_type": "code",
   "execution_count": 17,
   "metadata": {
    "executionInfo": {
     "elapsed": 5,
     "status": "ok",
     "timestamp": 1702337432266,
     "user": {
      "displayName": "Laurent Picard",
      "userId": "17424629147771078746"
     },
     "user_tz": -60
    },
    "id": "ACD_LaIAE22c",
    "tags": []
   },
   "outputs": [],
   "source": [
    "multimodal_model = GenerativeModel(\"gemini-pro-vision\")"
   ]
  },
  {
   "cell_type": "markdown",
   "metadata": {
    "id": "dvdNYQKJE22c"
   },
   "source": [
    "### Reasoning on a single image\n"
   ]
  },
  {
   "cell_type": "markdown",
   "metadata": {
    "id": "UFW-KLIjmGN7"
   },
   "source": [
    "You can ask for an image description:\n"
   ]
  },
  {
   "cell_type": "code",
   "execution_count": 18,
   "metadata": {
    "colab": {
     "base_uri": "https://localhost:8080/",
     "height": 466
    },
    "executionInfo": {
     "elapsed": 6317,
     "status": "ok",
     "timestamp": 1702337438579,
     "user": {
      "displayName": "Laurent Picard",
      "userId": "17424629147771078746"
     },
     "user_tz": -60
    },
    "id": "aFvAEetIcSA7",
    "outputId": "d4efe8d5-ed41-44e0-eb81-9c26d284738d",
    "tags": []
   },
   "outputs": [
    {
     "name": "stdout",
     "output_type": "stream",
     "text": [
      "----------------------------------- Contents -----------------------------------\n",
      "Describe this image:\n"
     ]
    },
    {
     "data": {
      "image/jpeg": "[encoded data removed]",
      "text/plain": [
       "<IPython.core.display.Image object>"
      ]
     },
     "metadata": {},
     "output_type": "display_data"
    },
    {
     "name": "stdout",
     "output_type": "stream",
     "text": [
      "------------------------------ Start of responses ------------------------------\n"
     ]
    },
    {
     "data": {
      "text/markdown": [
       "The image shows a wooden abacus with ten rows of beads. The beads are arranged in groups of ten, with each group having one bead of a different color. The abacus is standing on a white surface."
      ],
      "text/plain": [
       "<IPython.core.display.Markdown object>"
      ]
     },
     "metadata": {},
     "output_type": "display_data"
    },
    {
     "name": "stdout",
     "output_type": "stream",
     "text": [
      "------------------------------- End of responses -------------------------------\n",
      "\n"
     ]
    }
   ],
   "source": [
    "prompt = \"Describe this image:\"\n",
    "# Image by Crissy Jarvis on Unsplash: https://unsplash.com/photos/cHhbULJbPwM\n",
    "image_abacus = load_image_from_url(\n",
    "    \"https://unsplash.com/photos/cHhbULJbPwM/download?w=600\"\n",
    ")\n",
    "\n",
    "contents = [prompt, image_abacus]\n",
    "responses = generate_content(multimodal_model, contents)\n",
    "\n",
    "print_contents(contents)\n",
    "print_responses(responses)"
   ]
  },
  {
   "cell_type": "markdown",
   "metadata": {
    "id": "jjqqXuauE22c"
   },
   "source": [
    "… or ask specific questions:\n"
   ]
  },
  {
   "cell_type": "code",
   "execution_count": 19,
   "metadata": {
    "colab": {
     "base_uri": "https://localhost:8080/",
     "height": 994
    },
    "executionInfo": {
     "elapsed": 8531,
     "status": "ok",
     "timestamp": 1702337447098,
     "user": {
      "displayName": "Laurent Picard",
      "userId": "17424629147771078746"
     },
     "user_tz": -60
    },
    "id": "H0SOqKjyi1tH",
    "outputId": "6dfb3763-facf-4ffb-c3e0-5e2599efecb6",
    "tags": []
   },
   "outputs": [
    {
     "name": "stdout",
     "output_type": "stream",
     "text": [
      "----------------------------------- Contents -----------------------------------\n",
      "\n",
      "Answer the following questions about this image.\n",
      "Return the results as a JSON list containing \"question\" and \"answer\" pairs.\n",
      "\n",
      "QUESTIONS:\n",
      "- What does the image show?\n",
      "- How does it work?\n",
      "- When was it invented?\n",
      "- What's the name of this object in French, Italian, Spanish, Dutch, and German?\n",
      "- What are the most prominent colors in the image?\n",
      "\n"
     ]
    },
    {
     "data": {
      "image/jpeg": "[encoded data removed]",
      "text/plain": [
       "<IPython.core.display.Image object>"
      ]
     },
     "metadata": {},
     "output_type": "display_data"
    },
    {
     "name": "stdout",
     "output_type": "stream",
     "text": [
      "------------------------------ Start of responses ------------------------------\n"
     ]
    },
    {
     "data": {
      "text/markdown": [
       "```json\n",
       "[\n",
       "  {\n",
       "    \"question\": \"What does the image show?\",\n",
       "    \"answer\": \"The image shows an abacus.\"\n",
       "  },\n",
       "  {\n",
       "    \"question\": \"How does it work?\",\n",
       "    \"answer\": \"An abacus is a calculating tool that has been used for centuries. It is made up of a frame with rows of beads. Each row represents a different place value, and the beads are used to represent numbers.\"\n",
       "  },\n",
       "  {\n",
       "    \"question\": \"When was it invented?\",\n",
       "    \"answer\": \"The abacus was invented in ancient China around 2000 BC.\"\n",
       "  },\n",
       "  {\n",
       "    \"question\": \"What's the name of this object in French, Italian, Spanish, Dutch, and German?\",\n",
       "    \"answer\": \"The French word for abacus is boulier, the Italian word is pallottoliere, the Spanish word is \\u00e1baco, the Dutch word is rekenrek, and the German word is Rechenbrett.\"\n",
       "  },\n",
       "  {\n",
       "    \"question\": \"What are the most prominent colors in the image?\",\n",
       "    \"answer\": \"The most prominent colors in the image are red, yellow, green, and blue.\"\n",
       "  }\n",
       "]\n",
       "```"
      ],
      "text/plain": [
       "<IPython.core.display.Markdown object>"
      ]
     },
     "metadata": {},
     "output_type": "display_data"
    },
    {
     "name": "stdout",
     "output_type": "stream",
     "text": [
      "------------------------------- End of responses -------------------------------\n",
      "\n"
     ]
    }
   ],
   "source": [
    "prompt = \"\"\"\n",
    "Answer the following questions about this image.\n",
    "Return the results as a JSON list containing \"question\" and \"answer\" pairs.\n",
    "\n",
    "QUESTIONS:\n",
    "- What does the image show?\n",
    "- How does it work?\n",
    "- When was it invented?\n",
    "- What's the name of this object in French, Italian, Spanish, Dutch, and German?\n",
    "- What are the most prominent colors in the image?\n",
    "\"\"\"\n",
    "\n",
    "contents = [prompt, image_abacus]\n",
    "responses = generate_content(multimodal_model, contents)\n",
    "\n",
    "print_contents(contents)\n",
    "print_responses(responses)"
   ]
  },
  {
   "cell_type": "markdown",
   "metadata": {
    "id": "I9SIjHnbmGN8"
   },
   "source": [
    "Your specific questions can have follow-up questions:\n"
   ]
  },
  {
   "cell_type": "code",
   "execution_count": 20,
   "metadata": {
    "colab": {
     "base_uri": "https://localhost:8080/",
     "height": 622
    },
    "executionInfo": {
     "elapsed": 6669,
     "status": "ok",
     "timestamp": 1702337453762,
     "user": {
      "displayName": "Laurent Picard",
      "userId": "17424629147771078746"
     },
     "user_tz": -60
    },
    "id": "bGIsUZFAmGN8",
    "outputId": "69645032-83ea-4748-ff61-10577bc7dc87",
    "tags": []
   },
   "outputs": [
    {
     "name": "stdout",
     "output_type": "stream",
     "text": [
      "----------------------------------- Contents -----------------------------------\n"
     ]
    },
    {
     "data": {
      "image/jpeg": "[encoded data removed]",
      "text/plain": [
       "<IPython.core.display.Image object>"
      ]
     },
     "metadata": {},
     "output_type": "display_data"
    },
    {
     "name": "stdout",
     "output_type": "stream",
     "text": [
      "\n",
      "- What expression can be read in this image? How is it presented?\n",
      "- What is the opposite expression?\n",
      "- What is a recommendation, starting with this expression, a teacher could give his students for an exam?\n",
      "- With the opposite expression?\n",
      "\n",
      "------------------------------ Start of responses ------------------------------\n"
     ]
    },
    {
     "data": {
      "text/markdown": [
       "- The expression that can be read in this image is \"In the beginning\". It is presented using wooden tiles with letters on them.\n",
       "- The opposite expression is \"In the end\".\n",
       "- A recommendation a teacher could give his students for an exam, starting with the expression \"In the beginning\", could be: \"In the beginning, take a deep breath and relax. Read the instructions carefully and answer the questions to the best of your ability.\"\n",
       "- With the opposite expression, the teacher could say: \"In the end, check your work carefully and make sure you have answered all of the questions.\""
      ],
      "text/plain": [
       "<IPython.core.display.Markdown object>"
      ]
     },
     "metadata": {},
     "output_type": "display_data"
    },
    {
     "name": "stdout",
     "output_type": "stream",
     "text": [
      "------------------------------- End of responses -------------------------------\n",
      "\n"
     ]
    }
   ],
   "source": [
    "# Image by Brett Jordan on Unsplash: https://unsplash.com/photos/E1por_SGvJE\n",
    "image_tiles = load_image_from_url(\n",
    "    \"https://unsplash.com/photos/E1por_SGvJE/download?w=600\"\n",
    ")\n",
    "prompt = \"\"\"\n",
    "- What expression can be read in this image? How is it presented?\n",
    "- What is the opposite expression?\n",
    "- What is a recommendation, starting with this expression, a teacher could give his students for an exam?\n",
    "- With the opposite expression?\n",
    "\"\"\"\n",
    "\n",
    "contents = [image_tiles, prompt]\n",
    "responses = generate_content(multimodal_model, contents)\n",
    "\n",
    "print_contents(contents)\n",
    "print_responses(responses)"
   ]
  },
  {
   "cell_type": "markdown",
   "metadata": {
    "id": "trT6xm249rqo"
   },
   "source": [
    "Information can have multiple forms. It can be objects, printed text, handwritten text, and more:\n"
   ]
  },
  {
   "cell_type": "code",
   "execution_count": 21,
   "metadata": {
    "colab": {
     "base_uri": "https://localhost:8080/",
     "height": 1000
    },
    "executionInfo": {
     "elapsed": 7922,
     "status": "ok",
     "timestamp": 1702337461673,
     "user": {
      "displayName": "Laurent Picard",
      "userId": "17424629147771078746"
     },
     "user_tz": -60
    },
    "id": "VKsArAoJmGN8",
    "outputId": "2209af8b-8d05-4ba4-d55f-49c16e7d9092",
    "tags": []
   },
   "outputs": [
    {
     "name": "stdout",
     "output_type": "stream",
     "text": [
      "----------------------------------- Contents -----------------------------------\n",
      "\n",
      "Follow the instructions.\n",
      "Write math expressions in LaTex.\n",
      "Use a table with a row for each instruction and its result.\n",
      "\n",
      "INSTRUCTIONS:\n",
      "- Extract the formula.\n",
      "- What is the symbol right before Pi? What does it mean?\n",
      "- Is this a famous formula? Does it have a name?\n",
      "- Why is it special?\n",
      "- Extract the caption.\n",
      "- What's the object in the bottom?\n",
      "- What was it used for?\n",
      "- What colors are the caption and the formula?\n",
      "\n"
     ]
    },
    {
     "data": {
      "image/jpeg": "[encoded data removed]",
      "text/plain": [
       "<IPython.core.display.Image object>"
      ]
     },
     "metadata": {},
     "output_type": "display_data"
    },
    {
     "name": "stdout",
     "output_type": "stream",
     "text": [
      "------------------------------ Start of responses ------------------------------\n"
     ]
    },
    {
     "data": {
      "text/markdown": [
       "| Instruction | Result |\n",
       "| -------- | -------- |\n",
       "| Extract the formula. | $$e^{i\\pi}+1=0$$ |\n",
       "| What is the symbol right before Pi? What does it mean? | The symbol is i. It is the imaginary unit, which is a mathematical concept that is used to represent the square root of -1. |\n",
       "| Is this a famous formula? Does it have a name? | Yes, it is known as Euler's identity. |\n",
       "| Why is it special? | It is considered to be one of the most beautiful equations in mathematics because of its simplicity and elegance, and because it relates five fundamental mathematical constants: e, i, π, 1, and 0. |\n",
       "| Extract the caption. | \"The most beautiful equation\" |\n",
       "| What's the object in the bottom? | It's a green pen. |\n",
       "| What was it used for? | It was used to write the formula. |\n",
       "| What colors are the caption and the formula? | The caption is black and the formula is green. |"
      ],
      "text/plain": [
       "<IPython.core.display.Markdown object>"
      ]
     },
     "metadata": {},
     "output_type": "display_data"
    },
    {
     "name": "stdout",
     "output_type": "stream",
     "text": [
      "------------------------------- End of responses -------------------------------\n",
      "\n"
     ]
    }
   ],
   "source": [
    "prompt = \"\"\"\n",
    "Follow the instructions.\n",
    "Write math expressions in LaTex.\n",
    "Use a table with a row for each instruction and its result.\n",
    "\n",
    "INSTRUCTIONS:\n",
    "- Extract the formula.\n",
    "- What is the symbol right before Pi? What does it mean?\n",
    "- Is this a famous formula? Does it have a name?\n",
    "- Why is it special?\n",
    "- Extract the caption.\n",
    "- What's the object in the bottom?\n",
    "- What was it used for?\n",
    "- What colors are the caption and the formula?\n",
    "\"\"\"\n",
    "image_euler = load_image_from_url(\n",
    "    \"https://storage.googleapis.com/cloud-samples-data/generative-ai/image/math_beauty.jpg\"\n",
    ")\n",
    "\n",
    "contents = [prompt, image_euler]\n",
    "responses = generate_content(multimodal_model, contents)\n",
    "\n",
    "print_contents(contents)\n",
    "print_responses(responses)"
   ]
  },
  {
   "cell_type": "markdown",
   "metadata": {
    "id": "XHHKFGbMU-Re"
   },
   "source": [
    "You can also ask for interpretations and suggestions:\n"
   ]
  },
  {
   "cell_type": "code",
   "execution_count": 22,
   "metadata": {
    "colab": {
     "base_uri": "https://localhost:8080/",
     "height": 934
    },
    "executionInfo": {
     "elapsed": 9201,
     "status": "ok",
     "timestamp": 1702337470869,
     "user": {
      "displayName": "Laurent Picard",
      "userId": "17424629147771078746"
     },
     "user_tz": -60
    },
    "id": "cJ0TsH-7unIE",
    "outputId": "c7a22ff9-9bd5-4598-a52f-0a526646fdbc",
    "tags": []
   },
   "outputs": [
    {
     "name": "stdout",
     "output_type": "stream",
     "text": [
      "----------------------------------- Contents -----------------------------------\n",
      "\n",
      "Answer the following questions about the image.\n",
      "Present the results in a table with a row for each question and its answer.\n",
      "\n",
      "QUESTIONS:\n",
      "- What is visible?\n",
      "- What are the reasons it's funny?\n",
      "- What could be a fun caption?\n",
      "- What could happen next?\n",
      "- How would you alter the image? Would it still be funny and why?\n",
      "- How would you make it funnier?\n",
      "\n"
     ]
    },
    {
     "data": {
      "image/jpeg": "[encoded data removed]",
      "text/plain": [
       "<IPython.core.display.Image object>"
      ]
     },
     "metadata": {},
     "output_type": "display_data"
    },
    {
     "name": "stdout",
     "output_type": "stream",
     "text": [
      "------------------------------ Start of responses ------------------------------\n"
     ]
    },
    {
     "data": {
      "text/markdown": [
       "| Question                                             | Answer                                                                                                      |\n",
       "|-----------------------------------------------------|----------------------------------------------------------------------------------------------------------|\n",
       "| What is visible?                                    | A lamb is lying in front of a chalkboard. The lamb is looking at the chalkboard.                          |\n",
       "| What are the reasons it's funny?                    | The lamb is in a classroom. It is looking at a math problem on the chalkboard. The math problem is 2 + 2 = 5. The lamb is thinking about the math problem. It is trying to figure out the answer. The lamb is confused. It does not know the answer. |\n",
       "| What could be a fun caption?                         | \"I'm not very good at math.\"                                                                             |\n",
       "| What could happen next?                             | The lamb will give up on the math problem. It will go back to sleep.                                         |\n",
       "| How would you alter the image? Would it still be funny and why? | I would add a speech bubble to the lamb. In the speech bubble, I would write, \"I'm not very good at math.\" I think this would make the image funnier because it would make it clear that the lamb is confused about the math problem. |\n",
       "| How would you make it funnier?                       | I would add a second lamb to the image. The second lamb would be sitting next to the first lamb. The second lamb would be looking at the math problem. The second lamb would be very confused. It would not know the answer to the math problem. I think this would make the image funnier because it would show that the lamb is not alone in its confusion. |"
      ],
      "text/plain": [
       "<IPython.core.display.Markdown object>"
      ]
     },
     "metadata": {},
     "output_type": "display_data"
    },
    {
     "name": "stdout",
     "output_type": "stream",
     "text": [
      "------------------------------- End of responses -------------------------------\n",
      "\n"
     ]
    }
   ],
   "source": [
    "prompt = \"\"\"\n",
    "Answer the following questions about the image.\n",
    "Present the results in a table with a row for each question and its answer.\n",
    "\n",
    "QUESTIONS:\n",
    "- What is visible?\n",
    "- What are the reasons it's funny?\n",
    "- What could be a fun caption?\n",
    "- What could happen next?\n",
    "- How would you alter the image? Would it still be funny and why?\n",
    "- How would you make it funnier?\n",
    "\"\"\"\n",
    "# Image by Elimende Inagella on Unsplash: https://unsplash.com/photos/4ApmfdVo32Q\n",
    "image_classroom = load_image_from_url(\n",
    "    \"https://unsplash.com/photos/4ApmfdVo32Q/download?w=600\"\n",
    ")\n",
    "\n",
    "contents = [prompt, image_classroom]\n",
    "responses = generate_content(multimodal_model, contents)\n",
    "\n",
    "print_contents(contents)\n",
    "print_responses(responses)"
   ]
  },
  {
   "cell_type": "markdown",
   "metadata": {
    "id": "qU5Tm-FQE22c"
   },
   "source": [
    "### Reasoning on multiple images\n"
   ]
  },
  {
   "cell_type": "markdown",
   "metadata": {
    "id": "Vbf1HALvE22d"
   },
   "source": [
    "You can also use multiple images:\n"
   ]
  },
  {
   "cell_type": "code",
   "execution_count": 23,
   "metadata": {
    "colab": {
     "base_uri": "https://localhost:8080/",
     "height": 1000
    },
    "executionInfo": {
     "elapsed": 7944,
     "status": "ok",
     "timestamp": 1702337478799,
     "user": {
      "displayName": "Laurent Picard",
      "userId": "17424629147771078746"
     },
     "user_tz": -60
    },
    "id": "sLUesezCE22d",
    "outputId": "e85991c8-b5a1-4c0f-f5c3-8b46bd64d765",
    "tags": []
   },
   "outputs": [
    {
     "name": "stdout",
     "output_type": "stream",
     "text": [
      "----------------------------------- Contents -----------------------------------\n",
      "\n",
      "Answer the following questions for each image.\n",
      "Present the results in a table with a row for each image and a column for each question.\n",
      "\n",
      "QUESTIONS:\n",
      "- What can we see in the image?\n",
      "- Where does it take place?\n",
      "\n",
      "Image 1:\n"
     ]
    },
    {
     "data": {
      "image/jpeg": "[encoded data removed]",
      "text/plain": [
       "<IPython.core.display.Image object>"
      ]
     },
     "metadata": {},
     "output_type": "display_data"
    },
    {
     "name": "stdout",
     "output_type": "stream",
     "text": [
      "Image 2:\n"
     ]
    },
    {
     "data": {
      "image/jpeg": "[encoded data removed]",
      "text/plain": [
       "<IPython.core.display.Image object>"
      ]
     },
     "metadata": {},
     "output_type": "display_data"
    },
    {
     "name": "stdout",
     "output_type": "stream",
     "text": [
      "Image 3:\n"
     ]
    },
    {
     "data": {
      "image/jpeg": "[encoded data removed]",
      "text/plain": [
       "<IPython.core.display.Image object>"
      ]
     },
     "metadata": {},
     "output_type": "display_data"
    },
    {
     "name": "stdout",
     "output_type": "stream",
     "text": [
      "------------------------------ Start of responses ------------------------------\n"
     ]
    },
    {
     "data": {
      "text/markdown": [
       "| Image | What can we see in the image? | Where does it take place? |\n",
       "|---|---|---|\n",
       "| Image 1 | A blackboard with the words \"Back to School\" written on it | A classroom |\n",
       "| Image 2 | A blackboard with the words \"Please ask for our brunch menu\" written on it | A restaurant |\n",
       "| Image 3 | A blackboard with a lot of math equations written on it | A classroom |"
      ],
      "text/plain": [
       "<IPython.core.display.Markdown object>"
      ]
     },
     "metadata": {},
     "output_type": "display_data"
    },
    {
     "name": "stdout",
     "output_type": "stream",
     "text": [
      "------------------------------- End of responses -------------------------------\n",
      "\n"
     ]
    }
   ],
   "source": [
    "prompt = f\"\"\"\n",
    "Answer the following questions for each image.\n",
    "Present the results in a table with a row for each image and a column for each question.\n",
    "\n",
    "QUESTIONS:\n",
    "- What can we see in the image?\n",
    "- Where does it take place?\n",
    "\"\"\"\n",
    "caption_b1 = \"Image 1:\"\n",
    "caption_b2 = \"Image 2:\"\n",
    "caption_b3 = \"Image 3:\"\n",
    "# Photo by Deleece Cook on Unsplash: https://unsplash.com/photos/zzjLGF_6dx4\n",
    "image_b1 = load_image_from_url(\"https://unsplash.com/photos/zzjLGF_6dx4/download?w=600\")\n",
    "# Photo by Natasha Kapur on Unsplash: https://unsplash.com/photos/ndAHi2Wxcok\n",
    "image_b2 = load_image_from_url(\"https://unsplash.com/photos/ndAHi2Wxcok/download?w=600\")\n",
    "# Photo by Roman Mager on Unsplash: https://unsplash.com/photos/5mZ_M06Fc9g\n",
    "image_b3 = load_image_from_url(\"https://unsplash.com/photos/5mZ_M06Fc9g/download?w=600\")\n",
    "\n",
    "contents = [prompt, caption_b1, image_b1, caption_b2, image_b2, caption_b3, image_b3]\n",
    "responses = generate_content(multimodal_model, contents)\n",
    "\n",
    "print_contents(contents)\n",
    "print_responses(responses)"
   ]
  },
  {
   "cell_type": "markdown",
   "metadata": {
    "id": "CrMHz6A3E22d"
   },
   "source": [
    "… or make comparisons between images:\n"
   ]
  },
  {
   "cell_type": "code",
   "execution_count": 24,
   "metadata": {
    "colab": {
     "base_uri": "https://localhost:8080/",
     "height": 1000
    },
    "executionInfo": {
     "elapsed": 8002,
     "status": "ok",
     "timestamp": 1702337486791,
     "user": {
      "displayName": "Laurent Picard",
      "userId": "17424629147771078746"
     },
     "user_tz": -60
    },
    "id": "u7w31hUtE22d",
    "outputId": "f14cd388-e7c3-4d82-d006-b8b94961fe10",
    "tags": []
   },
   "outputs": [
    {
     "name": "stdout",
     "output_type": "stream",
     "text": [
      "----------------------------------- Contents -----------------------------------\n",
      "\n",
      "Answer the following questions about the images, with a short answer and a detailed reason for the answer.\n",
      "Present the results in a table with a row for each question, answer, and reason.\n",
      "\n",
      "QUESTIONS:\n",
      "- What do the images have in common?\n",
      "- Which one would be of interest to a mathematician?\n",
      "- Which one indicates it's the end of vacation?\n",
      "- Which one suggests we may get a coffee there?\n",
      "\n",
      "Image 1:\n"
     ]
    },
    {
     "data": {
      "image/jpeg": "[encoded data removed]",
      "text/plain": [
       "<IPython.core.display.Image object>"
      ]
     },
     "metadata": {},
     "output_type": "display_data"
    },
    {
     "name": "stdout",
     "output_type": "stream",
     "text": [
      "Image 2:\n"
     ]
    },
    {
     "data": {
      "image/jpeg": "[encoded data removed]",
      "text/plain": [
       "<IPython.core.display.Image object>"
      ]
     },
     "metadata": {},
     "output_type": "display_data"
    },
    {
     "name": "stdout",
     "output_type": "stream",
     "text": [
      "Image 3:\n"
     ]
    },
    {
     "data": {
      "image/jpeg": "[encoded data removed]",
      "text/plain": [
       "<IPython.core.display.Image object>"
      ]
     },
     "metadata": {},
     "output_type": "display_data"
    },
    {
     "name": "stdout",
     "output_type": "stream",
     "text": [
      "------------------------------ Start of responses ------------------------------\n"
     ]
    },
    {
     "data": {
      "text/markdown": [
       "| Question                                             | Answer                                             | Reason                                                                                                                               |\n",
       "|-----------------------------------------------------|--------------------------------------------------|--------------------------------------------------------------------------------------------------------------------------------|\n",
       "| What do the images have in common?                     | They are all images of chalkboards.                | The images all have a chalkboard as the subject.                                                                                  |\n",
       "| Which one would be of interest to a mathematician?   | Image 3                                              | Image 3 is a chalkboard full of math equations.                                                                                   |\n",
       "| Which one indicates it's the end of vacation?        | Image 1                                              | Image 1 says, \"Back to School.\"                                                                                               |\n",
       "| Which one suggests we may get a coffee there?        | Image 2                                              | Image 2 says, \"Please ask for our brunch menu.\" Coffee is often served at brunch.                                               |"
      ],
      "text/plain": [
       "<IPython.core.display.Markdown object>"
      ]
     },
     "metadata": {},
     "output_type": "display_data"
    },
    {
     "name": "stdout",
     "output_type": "stream",
     "text": [
      "------------------------------- End of responses -------------------------------\n",
      "\n"
     ]
    }
   ],
   "source": [
    "prompt = \"\"\"\n",
    "Answer the following questions about the images, with a short answer and a detailed reason for the answer.\n",
    "Present the results in a table with a row for each question, answer, and reason.\n",
    "\n",
    "QUESTIONS:\n",
    "- What do the images have in common?\n",
    "- Which one would be of interest to a mathematician?\n",
    "- Which one indicates it's the end of vacation?\n",
    "- Which one suggests we may get a coffee there?\n",
    "\"\"\"\n",
    "\n",
    "contents = [prompt, caption_b1, image_b1, caption_b2, image_b2, caption_b3, image_b3]\n",
    "responses = generate_content(multimodal_model, contents)\n",
    "\n",
    "print_contents(contents)\n",
    "print_responses(responses)"
   ]
  },
  {
   "cell_type": "markdown",
   "metadata": {
    "id": "uqFSjI4_mGN9"
   },
   "source": [
    "You can use Gemini's level of language and visual understanding to work with concepts or even get suggestions on new images:\n"
   ]
  },
  {
   "cell_type": "code",
   "execution_count": 25,
   "metadata": {
    "colab": {
     "base_uri": "https://localhost:8080/",
     "height": 1000
    },
    "executionInfo": {
     "elapsed": 6093,
     "status": "ok",
     "timestamp": 1702337492875,
     "user": {
      "displayName": "Laurent Picard",
      "userId": "17424629147771078746"
     },
     "user_tz": -60
    },
    "id": "QjbP2y26mGN9",
    "outputId": "7a072645-e7ff-4049-93a7-f27bb6e27c7c",
    "tags": []
   },
   "outputs": [
    {
     "name": "stdout",
     "output_type": "stream",
     "text": [
      "----------------------------------- Contents -----------------------------------\n",
      "\n",
      "Answer the following questions about the images, with a short answer and a detailed reason for the answer.\n",
      "Present the results in a table with a row for each question, answer, and reason.\n",
      "\n",
      "QUESTIONS:\n",
      "- What does the first image represent?\n",
      "- What does the second image represent?\n",
      "- What could be a next logical image?\n",
      "\n",
      "Image 1:\n"
     ]
    },
    {
     "data": {
      "image/jpeg": "[encoded data removed]",
      "text/plain": [
       "<IPython.core.display.Image object>"
      ]
     },
     "metadata": {},
     "output_type": "display_data"
    },
    {
     "name": "stdout",
     "output_type": "stream",
     "text": [
      "Image 2:\n"
     ]
    },
    {
     "data": {
      "image/jpeg": "[encoded data removed]",
      "text/plain": [
       "<IPython.core.display.Image object>"
      ]
     },
     "metadata": {},
     "output_type": "display_data"
    },
    {
     "name": "stdout",
     "output_type": "stream",
     "text": [
      "------------------------------ Start of responses ------------------------------\n"
     ]
    },
    {
     "data": {
      "text/markdown": [
       "| Question | Answer | Reason |\n",
       "| -------- | ------ | ------ |\n",
       "| What does the first image represent? | The sun. | The image shows a bright, shining sun in a clear blue sky. |\n",
       "| What does the second image represent? | Rain. | The image shows raindrops falling on a surface. |\n",
       "| What could be a next logical image? | A rainbow. | A rainbow is a natural phenomenon that is often seen after rain. It is caused by the refraction and dispersion of sunlight in water droplets in the atmosphere. |"
      ],
      "text/plain": [
       "<IPython.core.display.Markdown object>"
      ]
     },
     "metadata": {},
     "output_type": "display_data"
    },
    {
     "name": "stdout",
     "output_type": "stream",
     "text": [
      "------------------------------- End of responses -------------------------------\n",
      "\n"
     ]
    }
   ],
   "source": [
    "prompt = \"\"\"\n",
    "Answer the following questions about the images, with a short answer and a detailed reason for the answer.\n",
    "Present the results in a table with a row for each question, answer, and reason.\n",
    "\n",
    "QUESTIONS:\n",
    "- What does the first image represent?\n",
    "- What does the second image represent?\n",
    "- What could be a next logical image?\n",
    "\"\"\"\n",
    "caption_w1 = \"Image 1:\"\n",
    "caption_w2 = \"Image 2:\"\n",
    "# Photo by Diego Ballon Vargas on Unsplash: https://unsplash.com/photos/TA5bUTySOrg\n",
    "image_w1 = load_image_from_url(\"https://unsplash.com/photos/TA5bUTySOrg/download?w=600\")\n",
    "# Photo by Reza Shayestehpour on Unsplash: https://unsplash.com/photos/Nw_D8v79PM4\n",
    "image_w2 = load_image_from_url(\"https://unsplash.com/photos/Nw_D8v79PM4/download?w=600\")\n",
    "\n",
    "contents = [prompt, caption_w1, image_w1, caption_w2, image_w2]\n",
    "responses = generate_content(multimodal_model, contents)\n",
    "\n",
    "print_contents(contents)\n",
    "print_responses(responses)"
   ]
  },
  {
   "cell_type": "markdown",
   "metadata": {
    "id": "dJdBiddamGN9"
   },
   "source": [
    "This is really up to your imagination:\n"
   ]
  },
  {
   "cell_type": "code",
   "execution_count": 26,
   "metadata": {
    "colab": {
     "base_uri": "https://localhost:8080/",
     "height": 1000
    },
    "executionInfo": {
     "elapsed": 9644,
     "status": "ok",
     "timestamp": 1702337502502,
     "user": {
      "displayName": "Laurent Picard",
      "userId": "17424629147771078746"
     },
     "user_tz": -60
    },
    "id": "iFhubVwFmGN9",
    "outputId": "4f2f0ada-b96b-41c2-d2ba-9f0d1e3042c9",
    "tags": []
   },
   "outputs": [
    {
     "name": "stdout",
     "output_type": "stream",
     "text": [
      "----------------------------------- Contents -----------------------------------\n",
      "\n",
      "Answer the following questions, with a short answer and a detailed reason for the answer.\n",
      "Present the results in a table with a row for each question, answer, and reason.\n",
      "\n",
      "QUESTIONS:\n",
      "- What theme do these images illustrate?\n",
      "- What could be another image to replace the first one?\n",
      "- What other image could replace the second one?\n",
      "- What would be an alternative to the third image?\n",
      "- And for the last one?\n",
      "\n",
      "Image 1:\n"
     ]
    },
    {
     "data": {
      "image/jpeg": "[encoded data removed]",
      "text/plain": [
       "<IPython.core.display.Image object>"
      ]
     },
     "metadata": {},
     "output_type": "display_data"
    },
    {
     "name": "stdout",
     "output_type": "stream",
     "text": [
      "Image 2:\n"
     ]
    },
    {
     "data": {
      "image/jpeg": "[encoded data removed]",
      "text/plain": [
       "<IPython.core.display.Image object>"
      ]
     },
     "metadata": {},
     "output_type": "display_data"
    },
    {
     "name": "stdout",
     "output_type": "stream",
     "text": [
      "Image 3:\n"
     ]
    },
    {
     "data": {
      "image/jpeg": "[encoded data removed]",
      "text/plain": [
       "<IPython.core.display.Image object>"
      ]
     },
     "metadata": {},
     "output_type": "display_data"
    },
    {
     "name": "stdout",
     "output_type": "stream",
     "text": [
      "Image 4:\n"
     ]
    },
    {
     "data": {
      "image/jpeg": "[encoded data removed]",
      "text/plain": [
       "<IPython.core.display.Image object>"
      ]
     },
     "metadata": {},
     "output_type": "display_data"
    },
    {
     "name": "stdout",
     "output_type": "stream",
     "text": [
      "------------------------------ Start of responses ------------------------------\n"
     ]
    },
    {
     "data": {
      "text/markdown": [
       "| Question | Answer | Reason |\n",
       "| -------- | ------ | ------ |\n",
       "| What theme do these images illustrate? | The four seasons | The images show cherry blossoms in spring, sunflowers in summer, red maple leaves in autumn, and footprints in the snow in winter. |\n",
       "| What could be another image to replace the first one? | A picture of tulips | Tulips are also a symbol of spring. |\n",
       "| What other image could replace the second one? | A picture of a field of lavender | Lavender is a flower that blooms in summer and is known for its beautiful purple color. |\n",
       "| What would be an alternative to the third image? | A picture of a tree with yellow leaves | Yellow leaves are a symbol of autumn. |\n",
       "| And for the last one? | A picture of a frozen lake | A frozen lake is a symbol of winter. |"
      ],
      "text/plain": [
       "<IPython.core.display.Markdown object>"
      ]
     },
     "metadata": {},
     "output_type": "display_data"
    },
    {
     "name": "stdout",
     "output_type": "stream",
     "text": [
      "------------------------------- End of responses -------------------------------\n",
      "\n"
     ]
    }
   ],
   "source": [
    "prompt = \"\"\"\n",
    "Answer the following questions, with a short answer and a detailed reason for the answer.\n",
    "Present the results in a table with a row for each question, answer, and reason.\n",
    "\n",
    "QUESTIONS:\n",
    "- What theme do these images illustrate?\n",
    "- What could be another image to replace the first one?\n",
    "- What other image could replace the second one?\n",
    "- What would be an alternative to the third image?\n",
    "- And for the last one?\n",
    "\"\"\"\n",
    "caption_s1 = \"Image 1:\"\n",
    "caption_s2 = \"Image 2:\"\n",
    "caption_s3 = \"Image 3:\"\n",
    "caption_s4 = \"Image 4:\"\n",
    "# Photo by Tomoko Uji on Unsplash: https://unsplash.com/photos/eriuKJwcdjI\n",
    "image_s1 = load_image_from_url(\"https://unsplash.com/photos/eriuKJwcdjI/download?w=600\")\n",
    "# Photo by Todd Trapani on Unsplash: https://unsplash.com/photos/QldMpmrmWuc\n",
    "image_s2 = load_image_from_url(\"https://unsplash.com/photos/QldMpmrmWuc/download?w=600\")\n",
    "# Photo by Olivia Hutcherson on Unsplash: https://unsplash.com/photos/rN3m7aTH3io\n",
    "image_s3 = load_image_from_url(\"https://unsplash.com/photos/rN3m7aTH3io/download?w=600\")\n",
    "# Photo by Eberhard Grossgasteiger on Unsplash: https://unsplash.com/photos/FhdN5QVrBfY\n",
    "image_s4 = load_image_from_url(\"https://unsplash.com/photos/FhdN5QVrBfY/download?w=600\")\n",
    "\n",
    "contents = [\n",
    "    prompt,\n",
    "    caption_s1,\n",
    "    image_s1,\n",
    "    caption_s2,\n",
    "    image_s2,\n",
    "    caption_s3,\n",
    "    image_s3,\n",
    "    caption_s4,\n",
    "    image_s4,\n",
    "]\n",
    "responses = generate_content(multimodal_model, contents)\n",
    "\n",
    "print_contents(contents)\n",
    "print_responses(responses)"
   ]
  },
  {
   "cell_type": "markdown",
   "metadata": {
    "id": "JkjzQsgKGS7o"
   },
   "source": [
    "### Reasoning on a video\n"
   ]
  },
  {
   "cell_type": "markdown",
   "metadata": {
    "id": "_irp8pd4GS7o"
   },
   "source": [
    "And you also can extract information from a video:\n"
   ]
  },
  {
   "cell_type": "code",
   "execution_count": 27,
   "metadata": {
    "colab": {
     "base_uri": "https://localhost:8080/",
     "height": 790
    },
    "executionInfo": {
     "elapsed": 24732,
     "status": "ok",
     "timestamp": 1702337527230,
     "user": {
      "displayName": "Laurent Picard",
      "userId": "17424629147771078746"
     },
     "user_tz": -60
    },
    "id": "o9dOaKJoUknq",
    "outputId": "a870895c-ca0a-4003-e641-2f3485678e30",
    "tags": []
   },
   "outputs": [
    {
     "name": "stdout",
     "output_type": "stream",
     "text": [
      "----------------------------------- Contents -----------------------------------\n",
      "\n",
      "Answer the following questions using the video only.\n",
      "Present the results in a table with a row for each question and its answer.\n",
      "\n",
      "QUESTIONS:\n",
      "- What is the main animal visible throughout the video?\n",
      "- Which electronic devices are visible?\n",
      "- What animals are the cartoon characters doing a close-up selfie?\n",
      "- Which famous brands are visible?\n",
      "- What is the text visible at the end?\n",
      "\n"
     ]
    },
    {
     "data": {
      "text/html": [
       "<video src=\"https://storage.googleapis.com/cloud-samples-data/video/animals.mp4\" controls  width=\"600\" >\n",
       "      Your browser does not support the <code>video</code> element.\n",
       "    </video>"
      ],
      "text/plain": [
       "<IPython.core.display.Video object>"
      ]
     },
     "metadata": {},
     "output_type": "display_data"
    },
    {
     "name": "stdout",
     "output_type": "stream",
     "text": [
      "------------------------------ Start of responses ------------------------------\n"
     ]
    },
    {
     "data": {
      "text/markdown": [
       "| Question | Answer |\n",
       "| -------- | ------ |\n",
       "| What is the main animal visible throughout the video? | A tiger |\n",
       "| Which electronic devices are visible? | A smartphone and a camera |\n",
       "| What animals are the cartoon characters doing a close-up selfie? | A rabbit and a fox |\n",
       "| Which famous brands are visible? | Google and Disney |\n",
       "| What is the text visible at the end? | Zootopia Now Playing in 3D |"
      ],
      "text/plain": [
       "<IPython.core.display.Markdown object>"
      ]
     },
     "metadata": {},
     "output_type": "display_data"
    },
    {
     "name": "stdout",
     "output_type": "stream",
     "text": [
      "------------------------------- End of responses -------------------------------\n",
      "\n"
     ]
    }
   ],
   "source": [
    "prompt = \"\"\"\n",
    "Answer the following questions using the video only.\n",
    "Present the results in a table with a row for each question and its answer.\n",
    "\n",
    "QUESTIONS:\n",
    "- What is the main animal visible throughout the video?\n",
    "- Which electronic devices are visible?\n",
    "- What animals are the cartoon characters doing a close-up selfie?\n",
    "- Which famous brands are visible?\n",
    "- What is the text visible at the end?\n",
    "\"\"\"\n",
    "video = Part.from_uri(\n",
    "    uri=\"gs://cloud-samples-data/video/animals.mp4\",\n",
    "    mime_type=\"video/mp4\",\n",
    ")\n",
    "\n",
    "contents = [prompt, video]\n",
    "responses = generate_content(multimodal_model, contents)\n",
    "\n",
    "print_contents(contents)\n",
    "print_responses(responses)"
   ]
  },
  {
   "cell_type": "markdown",
   "metadata": {
    "id": "jWT14Lw6Uknq"
   },
   "source": [
    "## Conclusion\n",
    "\n",
    "In this tutorial, you saw examples of how you can use Gemini for education and benefit from text and multimodal models to generate content from text, images, and videos.\n",
    "\n",
    "You may also want to explore other tutorials that focus on different domains or specificities of the Vertex AI Gemini API.\n"
   ]
  }
 ],
 "metadata": {
  "colab": {
   "provenance": [],
   "toc_visible": true
  },
  "environment": {
   "kernel": "conda-root-py",
   "name": "workbench-notebooks.m113",
   "type": "gcloud",
   "uri": "gcr.io/deeplearning-platform-release/workbench-notebooks:m113"
  },
  "kernelspec": {
   "display_name": "Python 3 (ipykernel) (Local)",
   "language": "python",
   "name": "conda-root-py"
  },
  "language_info": {
   "codemirror_mode": {
    "name": "ipython",
    "version": 3
   },
   "file_extension": ".py",
   "mimetype": "text/x-python",
   "name": "python",
   "nbconvert_exporter": "python",
   "pygments_lexer": "ipython3",
   "version": "3.10.13"
  }
 },
 "nbformat": 4,
 "nbformat_minor": 4
}
